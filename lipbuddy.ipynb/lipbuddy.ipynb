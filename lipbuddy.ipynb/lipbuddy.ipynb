{
 "cells": [
  {
   "cell_type": "code",
   "execution_count": 1,
   "metadata": {},
   "outputs": [
    {
     "name": "stdout",
     "output_type": "stream",
     "text": [
      "Defaulting to user installation because normal site-packages is not writeable\n",
      "Collecting tensorflow\n",
      "  Downloading tensorflow-2.13.0-cp39-cp39-macosx_12_0_arm64.whl (1.9 kB)\n",
      "Collecting tensorflow-macos==2.13.0\n",
      "  Downloading tensorflow_macos-2.13.0-cp39-cp39-macosx_12_0_arm64.whl (189.3 MB)\n",
      "\u001b[K     |████████████████████████████████| 189.3 MB 3.0 MB/s eta 0:00:01\n",
      "\u001b[?25hCollecting astunparse>=1.6.0\n",
      "  Using cached astunparse-1.6.3-py2.py3-none-any.whl (12 kB)\n",
      "Collecting tensorboard<2.14,>=2.13\n",
      "  Using cached tensorboard-2.13.0-py3-none-any.whl (5.6 MB)\n",
      "Collecting typing-extensions<4.6.0,>=3.6.6\n",
      "  Using cached typing_extensions-4.5.0-py3-none-any.whl (27 kB)\n",
      "Collecting google-pasta>=0.1.1\n",
      "  Using cached google_pasta-0.2.0-py3-none-any.whl (57 kB)\n",
      "Collecting h5py>=2.9.0\n",
      "  Downloading h5py-3.9.0-cp39-cp39-macosx_11_0_arm64.whl (2.7 MB)\n",
      "\u001b[K     |████████████████████████████████| 2.7 MB 554 kB/s eta 0:00:01\n",
      "\u001b[?25hCollecting termcolor>=1.1.0\n",
      "  Using cached termcolor-2.3.0-py3-none-any.whl (6.9 kB)\n",
      "Collecting grpcio<2.0,>=1.24.3\n",
      "  Downloading grpcio-1.57.0-cp39-cp39-macosx_10_10_universal2.whl (9.1 MB)\n",
      "\u001b[K     |████████████████████████████████| 9.1 MB 1.2 MB/s eta 0:00:01\n",
      "\u001b[?25hCollecting numpy<=1.24.3,>=1.22\n",
      "  Downloading numpy-1.24.3-cp39-cp39-macosx_11_0_arm64.whl (13.9 MB)\n",
      "\u001b[K     |████████████████████████████████| 13.9 MB 668 kB/s eta 0:00:01\n",
      "\u001b[?25hRequirement already satisfied: six>=1.12.0 in /Library/Developer/CommandLineTools/Library/Frameworks/Python3.framework/Versions/3.9/lib/python3.9/site-packages (from tensorflow-macos==2.13.0->tensorflow) (1.15.0)\n",
      "Collecting keras<2.14,>=2.13.1\n",
      "  Using cached keras-2.13.1-py3-none-any.whl (1.7 MB)\n",
      "Requirement already satisfied: packaging in /Users/chaitanyatandon/Library/Python/3.9/lib/python/site-packages (from tensorflow-macos==2.13.0->tensorflow) (23.1)\n",
      "Collecting opt-einsum>=2.3.2\n",
      "  Using cached opt_einsum-3.3.0-py3-none-any.whl (65 kB)\n",
      "Requirement already satisfied: setuptools in /Library/Developer/CommandLineTools/Library/Frameworks/Python3.framework/Versions/3.9/lib/python3.9/site-packages (from tensorflow-macos==2.13.0->tensorflow) (58.0.4)\n",
      "Collecting flatbuffers>=23.1.21\n",
      "  Using cached flatbuffers-23.5.26-py2.py3-none-any.whl (26 kB)\n",
      "Collecting tensorflow-estimator<2.14,>=2.13.0\n",
      "  Using cached tensorflow_estimator-2.13.0-py2.py3-none-any.whl (440 kB)\n",
      "Collecting absl-py>=1.0.0\n",
      "  Using cached absl_py-1.4.0-py3-none-any.whl (126 kB)\n",
      "Collecting wrapt>=1.11.0\n",
      "  Downloading wrapt-1.15.0-cp39-cp39-macosx_11_0_arm64.whl (36 kB)\n",
      "Collecting protobuf!=4.21.0,!=4.21.1,!=4.21.2,!=4.21.3,!=4.21.4,!=4.21.5,<5.0.0dev,>=3.20.3\n",
      "  Using cached protobuf-4.24.2-cp37-abi3-macosx_10_9_universal2.whl (409 kB)\n",
      "Collecting libclang>=13.0.0\n",
      "  Using cached libclang-16.0.6-py2.py3-none-macosx_11_0_arm64.whl (20.6 MB)\n",
      "Collecting gast<=0.4.0,>=0.2.1\n",
      "  Using cached gast-0.4.0-py3-none-any.whl (9.8 kB)\n",
      "Requirement already satisfied: wheel<1.0,>=0.23.0 in /Library/Developer/CommandLineTools/Library/Frameworks/Python3.framework/Versions/3.9/lib/python3.9/site-packages (from astunparse>=1.6.0->tensorflow-macos==2.13.0->tensorflow) (0.37.0)\n",
      "Collecting markdown>=2.6.8\n",
      "  Using cached Markdown-3.4.4-py3-none-any.whl (94 kB)\n",
      "Requirement already satisfied: requests<3,>=2.21.0 in /Users/chaitanyatandon/Library/Python/3.9/lib/python/site-packages (from tensorboard<2.14,>=2.13->tensorflow-macos==2.13.0->tensorflow) (2.31.0)\n",
      "Collecting google-auth<3,>=1.6.3\n",
      "  Using cached google_auth-2.22.0-py2.py3-none-any.whl (181 kB)\n",
      "Collecting werkzeug>=1.0.1\n",
      "  Using cached werkzeug-2.3.7-py3-none-any.whl (242 kB)\n",
      "Collecting tensorboard-data-server<0.8.0,>=0.7.0\n",
      "  Using cached tensorboard_data_server-0.7.1-py3-none-any.whl (2.4 kB)\n",
      "Collecting google-auth-oauthlib<1.1,>=0.5\n",
      "  Using cached google_auth_oauthlib-1.0.0-py2.py3-none-any.whl (18 kB)\n",
      "Collecting rsa<5,>=3.1.4\n",
      "  Using cached rsa-4.9-py3-none-any.whl (34 kB)\n",
      "Collecting pyasn1-modules>=0.2.1\n",
      "  Using cached pyasn1_modules-0.3.0-py2.py3-none-any.whl (181 kB)\n",
      "Requirement already satisfied: urllib3<2.0 in /Users/chaitanyatandon/Library/Python/3.9/lib/python/site-packages (from google-auth<3,>=1.6.3->tensorboard<2.14,>=2.13->tensorflow-macos==2.13.0->tensorflow) (1.26.16)\n",
      "Collecting cachetools<6.0,>=2.0.0\n",
      "  Using cached cachetools-5.3.1-py3-none-any.whl (9.3 kB)\n",
      "Collecting requests-oauthlib>=0.7.0\n",
      "  Using cached requests_oauthlib-1.3.1-py2.py3-none-any.whl (23 kB)\n",
      "Requirement already satisfied: importlib-metadata>=4.4 in /Users/chaitanyatandon/Library/Python/3.9/lib/python/site-packages (from markdown>=2.6.8->tensorboard<2.14,>=2.13->tensorflow-macos==2.13.0->tensorflow) (6.8.0)\n",
      "Requirement already satisfied: zipp>=0.5 in /Users/chaitanyatandon/Library/Python/3.9/lib/python/site-packages (from importlib-metadata>=4.4->markdown>=2.6.8->tensorboard<2.14,>=2.13->tensorflow-macos==2.13.0->tensorflow) (3.16.2)\n",
      "Collecting pyasn1<0.6.0,>=0.4.6\n",
      "  Using cached pyasn1-0.5.0-py2.py3-none-any.whl (83 kB)\n",
      "Requirement already satisfied: certifi>=2017.4.17 in /Users/chaitanyatandon/Library/Python/3.9/lib/python/site-packages (from requests<3,>=2.21.0->tensorboard<2.14,>=2.13->tensorflow-macos==2.13.0->tensorflow) (2023.7.22)\n",
      "Requirement already satisfied: charset-normalizer<4,>=2 in /Users/chaitanyatandon/Library/Python/3.9/lib/python/site-packages (from requests<3,>=2.21.0->tensorboard<2.14,>=2.13->tensorflow-macos==2.13.0->tensorflow) (3.2.0)\n",
      "Requirement already satisfied: idna<4,>=2.5 in /Users/chaitanyatandon/Library/Python/3.9/lib/python/site-packages (from requests<3,>=2.21.0->tensorboard<2.14,>=2.13->tensorflow-macos==2.13.0->tensorflow) (3.4)\n",
      "Collecting oauthlib>=3.0.0\n",
      "  Using cached oauthlib-3.2.2-py3-none-any.whl (151 kB)\n",
      "Collecting MarkupSafe>=2.1.1\n",
      "  Downloading MarkupSafe-2.1.3-cp39-cp39-macosx_10_9_universal2.whl (17 kB)\n",
      "Installing collected packages: pyasn1, rsa, pyasn1-modules, oauthlib, cachetools, requests-oauthlib, MarkupSafe, google-auth, werkzeug, tensorboard-data-server, protobuf, numpy, markdown, grpcio, google-auth-oauthlib, absl-py, wrapt, typing-extensions, termcolor, tensorflow-estimator, tensorboard, opt-einsum, libclang, keras, h5py, google-pasta, gast, flatbuffers, astunparse, tensorflow-macos, tensorflow\n",
      "  Attempting uninstall: numpy\n",
      "    Found existing installation: numpy 1.25.2\n",
      "    Uninstalling numpy-1.25.2:\n",
      "      Successfully uninstalled numpy-1.25.2\n",
      "  Attempting uninstall: typing-extensions\n",
      "    Found existing installation: typing-extensions 4.7.1\n",
      "    Uninstalling typing-extensions-4.7.1:\n",
      "      Successfully uninstalled typing-extensions-4.7.1\n",
      "Successfully installed MarkupSafe-2.1.3 absl-py-1.4.0 astunparse-1.6.3 cachetools-5.3.1 flatbuffers-23.5.26 gast-0.4.0 google-auth-2.22.0 google-auth-oauthlib-1.0.0 google-pasta-0.2.0 grpcio-1.57.0 h5py-3.9.0 keras-2.13.1 libclang-16.0.6 markdown-3.4.4 numpy-1.24.3 oauthlib-3.2.2 opt-einsum-3.3.0 protobuf-4.24.2 pyasn1-0.5.0 pyasn1-modules-0.3.0 requests-oauthlib-1.3.1 rsa-4.9 tensorboard-2.13.0 tensorboard-data-server-0.7.1 tensorflow-2.13.0 tensorflow-estimator-2.13.0 tensorflow-macos-2.13.0 termcolor-2.3.0 typing-extensions-4.5.0 werkzeug-2.3.7 wrapt-1.15.0\n",
      "\u001b[33mWARNING: You are using pip version 21.2.4; however, version 23.2.1 is available.\n",
      "You should consider upgrading via the '/Library/Developer/CommandLineTools/usr/bin/python3 -m pip install --upgrade pip' command.\u001b[0m\n"
     ]
    }
   ],
   "source": [
    "!pip3 install tensorflow"
   ]
  },
  {
   "cell_type": "code",
   "execution_count": 2,
   "metadata": {},
   "outputs": [
    {
     "name": "stdout",
     "output_type": "stream",
     "text": [
      "Package                        Version\n",
      "------------------------------ -----------\n",
      "absl-py                        1.4.0\n",
      "altgraph                       0.17.2\n",
      "appnope                        0.1.3\n",
      "asttokens                      2.2.1\n",
      "astunparse                     1.6.3\n",
      "backcall                       0.2.0\n",
      "boto3                          1.28.36\n",
      "botocore                       1.31.36\n",
      "cachetools                     5.3.1\n",
      "certifi                        2023.7.22\n",
      "charset-normalizer             3.2.0\n",
      "comm                           0.1.4\n",
      "debugpy                        1.6.7.post1\n",
      "decorator                      5.1.1\n",
      "executing                      1.2.0\n",
      "flatbuffers                    23.5.26\n",
      "future                         0.18.2\n",
      "gast                           0.4.0\n",
      "google-auth                    2.22.0\n",
      "google-auth-oauthlib           1.0.0\n",
      "google-pasta                   0.2.0\n",
      "grpcio                         1.57.0\n",
      "h5py                           3.9.0\n",
      "ibm-cos-sdk                    2.11.0\n",
      "ibm-cos-sdk-core               2.11.0\n",
      "ibm-cos-sdk-s3transfer         2.11.0\n",
      "ibm-watson-machine-learning    1.0.316\n",
      "idna                           3.4\n",
      "importlib-metadata             6.8.0\n",
      "ipykernel                      6.25.1\n",
      "ipython                        8.14.0\n",
      "jedi                           0.19.0\n",
      "jmespath                       0.10.0\n",
      "jupyter_client                 8.3.1\n",
      "jupyter_core                   5.3.1\n",
      "keras                          2.13.1\n",
      "libclang                       16.0.6\n",
      "lomond                         0.3.3\n",
      "macholib                       1.15.2\n",
      "Markdown                       3.4.4\n",
      "MarkupSafe                     2.1.3\n",
      "matplotlib-inline              0.1.6\n",
      "nest-asyncio                   1.5.7\n",
      "numpy                          1.24.3\n",
      "oauthlib                       3.2.2\n",
      "opt-einsum                     3.3.0\n",
      "packaging                      23.1\n",
      "pandas                         1.5.3\n",
      "parso                          0.8.3\n",
      "pexpect                        4.8.0\n",
      "pickleshare                    0.7.5\n",
      "pip                            21.2.4\n",
      "platformdirs                   3.10.0\n",
      "prompt-toolkit                 3.0.39\n",
      "protobuf                       4.24.2\n",
      "psutil                         5.9.5\n",
      "ptyprocess                     0.7.0\n",
      "pure-eval                      0.2.2\n",
      "pyasn1                         0.5.0\n",
      "pyasn1-modules                 0.3.0\n",
      "Pygments                       2.16.1\n",
      "python-dateutil                2.8.2\n",
      "pytz                           2023.3\n",
      "pyzmq                          25.1.1\n",
      "requests                       2.31.0\n",
      "requests-oauthlib              1.3.1\n",
      "rsa                            4.9\n",
      "s3transfer                     0.6.2\n",
      "setuptools                     58.0.4\n",
      "six                            1.15.0\n",
      "stack-data                     0.6.2\n",
      "tabulate                       0.9.0\n",
      "tensorboard                    2.13.0\n",
      "tensorboard-data-server        0.7.1\n",
      "tensorflow                     2.13.0\n",
      "tensorflow-estimator           2.13.0\n",
      "tensorflow-macos               2.13.0\n",
      "termcolor                      2.3.0\n",
      "tornado                        6.3.3\n",
      "tqdm                           4.66.1\n",
      "traitlets                      5.9.0\n",
      "typing_extensions              4.5.0\n",
      "tzdata                         2023.3\n",
      "urllib3                        1.26.16\n",
      "watson-machine-learning-client 1.0.391\n",
      "wcwidth                        0.2.6\n",
      "Werkzeug                       2.3.7\n",
      "wheel                          0.37.0\n",
      "wrapt                          1.15.0\n",
      "zipp                           3.16.2\n",
      "\u001b[33mWARNING: You are using pip version 21.2.4; however, version 23.2.1 is available.\n",
      "You should consider upgrading via the '/Library/Developer/CommandLineTools/usr/bin/python3 -m pip install --upgrade pip' command.\u001b[0m\n"
     ]
    }
   ],
   "source": [
    "!pip3 list"
   ]
  },
  {
   "cell_type": "code",
   "execution_count": 3,
   "metadata": {},
   "outputs": [],
   "source": [
    "import tensorflow as tf"
   ]
  },
  {
   "cell_type": "code",
   "execution_count": 4,
   "metadata": {},
   "outputs": [],
   "source": [
    "from ibm_watson_machine_learning import APIClient\n",
    "\n",
    "wml_credentials={\n",
    "    \"url\":\"https://us-south.ml.cloud.ibm.com\",\n",
    "    \"apikey\":\"nF2BU5KRYc9z2ZnMhNuzVcghozZaznLHue1h5h0crcVk\"\n",
    "}"
   ]
  },
  {
   "cell_type": "code",
   "execution_count": 5,
   "metadata": {},
   "outputs": [],
   "source": [
    "client=APIClient(wml_credentials)"
   ]
  },
  {
   "cell_type": "code",
   "execution_count": 6,
   "metadata": {},
   "outputs": [
    {
     "data": {
      "text/plain": [
       "<ibm_watson_machine_learning.client.APIClient at 0x177649d30>"
      ]
     },
     "execution_count": 6,
     "metadata": {},
     "output_type": "execute_result"
    }
   ],
   "source": [
    "client"
   ]
  },
  {
   "cell_type": "code",
   "execution_count": 7,
   "metadata": {},
   "outputs": [
    {
     "name": "stdout",
     "output_type": "stream",
     "text": [
      "Note: 'limit' is not provided. Only first 50 records will be displayed if the number of records exceed 50\n",
      "------------------------------------  ----------  ------------------------\n",
      "ID                                    NAME        CREATED\n",
      "f9a08d7a-1730-4d9f-b753-50c531422a76  QuietPlace  2023-08-29T19:42:13.335Z\n",
      "------------------------------------  ----------  ------------------------\n"
     ]
    },
    {
     "data": {
      "text/html": [
       "<div>\n",
       "<style scoped>\n",
       "    .dataframe tbody tr th:only-of-type {\n",
       "        vertical-align: middle;\n",
       "    }\n",
       "\n",
       "    .dataframe tbody tr th {\n",
       "        vertical-align: top;\n",
       "    }\n",
       "\n",
       "    .dataframe thead th {\n",
       "        text-align: right;\n",
       "    }\n",
       "</style>\n",
       "<table border=\"1\" class=\"dataframe\">\n",
       "  <thead>\n",
       "    <tr style=\"text-align: right;\">\n",
       "      <th></th>\n",
       "      <th>ID</th>\n",
       "      <th>NAME</th>\n",
       "      <th>CREATED</th>\n",
       "    </tr>\n",
       "  </thead>\n",
       "  <tbody>\n",
       "    <tr>\n",
       "      <th>0</th>\n",
       "      <td>f9a08d7a-1730-4d9f-b753-50c531422a76</td>\n",
       "      <td>QuietPlace</td>\n",
       "      <td>2023-08-29T19:42:13.335Z</td>\n",
       "    </tr>\n",
       "  </tbody>\n",
       "</table>\n",
       "</div>"
      ],
      "text/plain": [
       "                                     ID        NAME                   CREATED\n",
       "0  f9a08d7a-1730-4d9f-b753-50c531422a76  QuietPlace  2023-08-29T19:42:13.335Z"
      ]
     },
     "execution_count": 7,
     "metadata": {},
     "output_type": "execute_result"
    }
   ],
   "source": [
    "client.spaces.list()"
   ]
  },
  {
   "cell_type": "code",
   "execution_count": 8,
   "metadata": {},
   "outputs": [],
   "source": [
    "space_uid=\"f9a08d7a-1730-4d9f-b753-50c531422a76\""
   ]
  },
  {
   "cell_type": "code",
   "execution_count": 9,
   "metadata": {},
   "outputs": [
    {
     "data": {
      "text/plain": [
       "'SUCCESS'"
      ]
     },
     "execution_count": 9,
     "metadata": {},
     "output_type": "execute_result"
    }
   ],
   "source": [
    "client.set.default_space(space_uid)"
   ]
  },
  {
   "cell_type": "code",
   "execution_count": 10,
   "metadata": {},
   "outputs": [
    {
     "name": "stdout",
     "output_type": "stream",
     "text": [
      "----------------------------  ------------------------------------  ----  ------------------  --------------------------\n",
      "NAME                          ID                                    TYPE  STATE               REPLACEMENT\n",
      "default_py3.6                 0062b8c9-8b7d-44a0-a9b9-46c416adcbd9  base  unsupported         runtime-22.2-py3.10\n",
      "autoai-ts_rt23.1-py3.10       01ce9391-1a79-5a33-94fb-2e134337f314  base  supported\n",
      "kernel-spark3.2-scala2.12     020d69ce-7ac1-5e68-ac1a-31189867356a  base  not_provided\n",
      "pytorch-onnx_1.3-py3.7-edt    069ea134-3346-5748-b513-49120e15d288  base  not_provided\n",
      "tensorflow_rt23.1-py3.10      079a91e0-245f-5269-8926-3c20b28f37dc  base  supported\n",
      "scikit-learn_0.20-py3.6       09c5a1d0-9c1e-4473-a344-eb7b665ff687  base  unsupported         runtime-22.2-py3.10\n",
      "spark-mllib_3.0-scala_2.12    09f4cff0-90a7-5899-b9ed-1ef348aebdee  base  unsupported\n",
      "pytorch-onnx_rt22.1-py3.9     0b848dd4-e681-5599-be41-b5f6fccc6471  base  unsupported         pytorch-onnx_rt22.2-py3.10\n",
      "ai-function_0.1-py3.6         0cdb0f1e-5376-4f4d-92dd-da3b69aa9bda  base  unsupported         runtime-22.2-py3.10\n",
      "shiny-r3.6                    0e6e79df-875e-4f24-8ae9-62dcc2148306  base  not_provided\n",
      "tensorflow_2.4-py3.7-horovod  1092590a-307d-563d-9b62-4eb7d64b3f22  base  unsupported         tensorflow_rt22.2-py3.10\n",
      "pytorch_1.1-py3.6             10ac12d6-6b30-4ccd-8392-3e922c096a92  base  unsupported\n",
      "tensorflow_1.15-py3.6-ddl     111e41b3-de2d-5422-a4d6-bf776828c4b7  base  unsupported\n",
      "autoai-kb_rt22.2-py3.10       125b6d9a-5b1f-5e8d-972a-b251688ccf40  base  supported\n",
      "runtime-22.1-py3.9            12b83a17-24d8-5082-900f-0ab31fbfd3cb  base  unsupported         runtime-22.2-py3.10\n",
      "masking-flows-spark           13666829-5570-53a7-927b-52d42a101d93  base  not_provided\n",
      "kernel-spark3.3-py3.10        147e6777-ccd1-5886-8571-5356abc20839  base  not_provided\n",
      "scikit-learn_0.22-py3.6       154010fa-5b3b-4ac1-82af-4d5ee5abbc85  base  unsupported         runtime-22.2-py3.10\n",
      "pytorch-onnx_rt23.1-py3.10    195067e6-4c5e-5fab-8bd0-e7623a88b4d3  base  supported\n",
      "default_r3.6                  1b70aec3-ab34-4b87-8aa0-a4a3c8296a36  base  deprecated\n",
      "pytorch-onnx_1.3-py3.6        1bc6029a-cc97-56da-b8e0-39c3880dbbe7  base  unsupported         runtime-22.2-py3.10\n",
      "kernel-spark3.3-r3.6          1c9e5454-f216-59dd-a20e-474a5cdf5988  base  not_provided\n",
      "tensorflow_2.1-py3.6          1eb25b84-d6ed-5dde-b6a5-3fbdf1665666  base  unsupported         runtime-22.2-py3.10\n",
      "spark-mllib_3.2               20047f72-0a98-58c7-9ff5-a77b012eb8f5  base  unsupported         spark-mllib_3.3\n",
      "tensorflow_2.4-py3.8-horovod  217c16f6-178f-56bf-824a-b19f20564c49  base  unsupported         tensorflow_rt22.2-py3.10\n",
      "runtime-22.1-py3.9-cuda       26215f05-08c3-5a41-a1b0-da66306ce658  base  unsupported         runtime-22.2-py3.10-cuda\n",
      "do_py3.8                      295addb5-9ef9-547e-9bf4-92ae3563e720  base  not_provided\n",
      "autoai-ts_3.8-py3.8           2aa0c932-798f-5ae9-abd6-15e0c2402fb5  base  unsupported         autoai-ts_rt22.2-py3.10\n",
      "tensorflow_1.15-py3.6         2b73a275-7cbf-420b-a912-eae7f436e0bc  base  unsupported         runtime-22.2-py3.10\n",
      "kernel-spark3.3-py3.9         2b7961e2-e3b1-5a8c-a491-482c8368839a  base  not_provided\n",
      "pytorch_1.2-py3.6             2c8ef57d-2687-4b7d-acce-01f94976dac1  base  unsupported         runtime-22.2-py3.10\n",
      "spark-mllib_2.3               2e51f700-bca0-4b0d-88dc-5c6791338875  base  create-unsupported  spark-mllib_3.3\n",
      "pytorch-onnx_1.1-py3.6-edt    32983cea-3f32-4400-8965-dde874a8d67e  base  unsupported\n",
      "spark-mllib_3.0-py37          36507ebe-8770-55ba-ab2a-eafe787600e9  base  unsupported         spark-mllib_3.3\n",
      "spark-mllib_2.4               390d21f8-e58b-4fac-9c55-d7ceda621326  base  unsupported         spark-mllib_3.3\n",
      "autoai-ts_rt22.2-py3.10       396b2e83-0953-5b86-9a55-7ce1628a406f  base  supported\n",
      "xgboost_0.82-py3.6            39e31acd-5f30-41dc-ae44-60233c80306e  base  unsupported         runtime-22.2-py3.10\n",
      "pytorch-onnx_1.2-py3.6-edt    40589d0e-7019-4e28-8daa-fb03b6f4fe12  base  unsupported\n",
      "pytorch-onnx_rt22.2-py3.10    40e73f55-783a-5535-b3fa-0c8b94291431  base  supported\n",
      "default_r36py38               41c247d3-45f8-5a71-b065-8580229facf0  base  not_provided\n",
      "autoai-ts_rt22.1-py3.9        4269d26e-07ba-5d40-8f66-2d495b0c71f7  base  unsupported         autoai-ts_rt22.2-py3.10\n",
      "autoai-obm_3.0                42b92e18-d9ab-567f-988a-4240ba1ed5f7  base  unsupported         autoai-obm_3.2\n",
      "pmml-3.0_4.3                  493bcb95-16f1-5bc5-bee8-81b8af80e9c7  base  supported\n",
      "spark-mllib_2.4-r_3.6         49403dff-92e9-4c87-a3d7-a42d0021c095  base  unsupported         spark-mllib_3.3\n",
      "xgboost_0.90-py3.6            4ff8d6c2-1343-4c18-85e1-689c965304d3  base  unsupported         runtime-22.2-py3.10\n",
      "pytorch-onnx_1.1-py3.6        50f95b2a-bc16-43bb-bc94-b0bed208c60b  base  unsupported         runtime-22.2-py3.10\n",
      "autoai-ts_3.9-py3.8           52c57136-80fa-572e-8728-a5e7cbb42cde  base  unsupported         autoai-ts_rt22.2-py3.10\n",
      "spark-mllib_2.4-scala_2.11    55a70f99-7320-4be5-9fb9-9edb5a443af5  base  unsupported         spark-mllib_3.3\n",
      "spark-mllib_3.0               5c1b0ca2-4977-5c2e-9439-ffd44ea8ffe9  base  unsupported         spark-mllib_3.3\n",
      "autoai-obm_2.0                5c2e37fa-80b8-5e77-840f-d912469614ee  base  unsupported         autoai-obm_3.2\n",
      "----------------------------  ------------------------------------  ----  ------------------  --------------------------\n",
      "Note: Only first 50 records were displayed. To display more use 'limit' parameter.\n"
     ]
    },
    {
     "data": {
      "text/html": [
       "<div>\n",
       "<style scoped>\n",
       "    .dataframe tbody tr th:only-of-type {\n",
       "        vertical-align: middle;\n",
       "    }\n",
       "\n",
       "    .dataframe tbody tr th {\n",
       "        vertical-align: top;\n",
       "    }\n",
       "\n",
       "    .dataframe thead th {\n",
       "        text-align: right;\n",
       "    }\n",
       "</style>\n",
       "<table border=\"1\" class=\"dataframe\">\n",
       "  <thead>\n",
       "    <tr style=\"text-align: right;\">\n",
       "      <th></th>\n",
       "      <th>NAME</th>\n",
       "      <th>ID</th>\n",
       "      <th>TYPE</th>\n",
       "      <th>STATE</th>\n",
       "      <th>REPLACEMENT</th>\n",
       "    </tr>\n",
       "  </thead>\n",
       "  <tbody>\n",
       "    <tr>\n",
       "      <th>0</th>\n",
       "      <td>default_py3.6</td>\n",
       "      <td>0062b8c9-8b7d-44a0-a9b9-46c416adcbd9</td>\n",
       "      <td>base</td>\n",
       "      <td>unsupported</td>\n",
       "      <td>runtime-22.2-py3.10</td>\n",
       "    </tr>\n",
       "    <tr>\n",
       "      <th>1</th>\n",
       "      <td>autoai-ts_rt23.1-py3.10</td>\n",
       "      <td>01ce9391-1a79-5a33-94fb-2e134337f314</td>\n",
       "      <td>base</td>\n",
       "      <td>supported</td>\n",
       "      <td></td>\n",
       "    </tr>\n",
       "    <tr>\n",
       "      <th>2</th>\n",
       "      <td>kernel-spark3.2-scala2.12</td>\n",
       "      <td>020d69ce-7ac1-5e68-ac1a-31189867356a</td>\n",
       "      <td>base</td>\n",
       "      <td>not_provided</td>\n",
       "      <td></td>\n",
       "    </tr>\n",
       "    <tr>\n",
       "      <th>3</th>\n",
       "      <td>pytorch-onnx_1.3-py3.7-edt</td>\n",
       "      <td>069ea134-3346-5748-b513-49120e15d288</td>\n",
       "      <td>base</td>\n",
       "      <td>not_provided</td>\n",
       "      <td></td>\n",
       "    </tr>\n",
       "    <tr>\n",
       "      <th>4</th>\n",
       "      <td>tensorflow_rt23.1-py3.10</td>\n",
       "      <td>079a91e0-245f-5269-8926-3c20b28f37dc</td>\n",
       "      <td>base</td>\n",
       "      <td>supported</td>\n",
       "      <td></td>\n",
       "    </tr>\n",
       "    <tr>\n",
       "      <th>5</th>\n",
       "      <td>scikit-learn_0.20-py3.6</td>\n",
       "      <td>09c5a1d0-9c1e-4473-a344-eb7b665ff687</td>\n",
       "      <td>base</td>\n",
       "      <td>unsupported</td>\n",
       "      <td>runtime-22.2-py3.10</td>\n",
       "    </tr>\n",
       "    <tr>\n",
       "      <th>6</th>\n",
       "      <td>spark-mllib_3.0-scala_2.12</td>\n",
       "      <td>09f4cff0-90a7-5899-b9ed-1ef348aebdee</td>\n",
       "      <td>base</td>\n",
       "      <td>unsupported</td>\n",
       "      <td></td>\n",
       "    </tr>\n",
       "    <tr>\n",
       "      <th>7</th>\n",
       "      <td>pytorch-onnx_rt22.1-py3.9</td>\n",
       "      <td>0b848dd4-e681-5599-be41-b5f6fccc6471</td>\n",
       "      <td>base</td>\n",
       "      <td>unsupported</td>\n",
       "      <td>pytorch-onnx_rt22.2-py3.10</td>\n",
       "    </tr>\n",
       "    <tr>\n",
       "      <th>8</th>\n",
       "      <td>ai-function_0.1-py3.6</td>\n",
       "      <td>0cdb0f1e-5376-4f4d-92dd-da3b69aa9bda</td>\n",
       "      <td>base</td>\n",
       "      <td>unsupported</td>\n",
       "      <td>runtime-22.2-py3.10</td>\n",
       "    </tr>\n",
       "    <tr>\n",
       "      <th>9</th>\n",
       "      <td>shiny-r3.6</td>\n",
       "      <td>0e6e79df-875e-4f24-8ae9-62dcc2148306</td>\n",
       "      <td>base</td>\n",
       "      <td>not_provided</td>\n",
       "      <td></td>\n",
       "    </tr>\n",
       "    <tr>\n",
       "      <th>10</th>\n",
       "      <td>tensorflow_2.4-py3.7-horovod</td>\n",
       "      <td>1092590a-307d-563d-9b62-4eb7d64b3f22</td>\n",
       "      <td>base</td>\n",
       "      <td>unsupported</td>\n",
       "      <td>tensorflow_rt22.2-py3.10</td>\n",
       "    </tr>\n",
       "    <tr>\n",
       "      <th>11</th>\n",
       "      <td>pytorch_1.1-py3.6</td>\n",
       "      <td>10ac12d6-6b30-4ccd-8392-3e922c096a92</td>\n",
       "      <td>base</td>\n",
       "      <td>unsupported</td>\n",
       "      <td></td>\n",
       "    </tr>\n",
       "    <tr>\n",
       "      <th>12</th>\n",
       "      <td>tensorflow_1.15-py3.6-ddl</td>\n",
       "      <td>111e41b3-de2d-5422-a4d6-bf776828c4b7</td>\n",
       "      <td>base</td>\n",
       "      <td>unsupported</td>\n",
       "      <td></td>\n",
       "    </tr>\n",
       "    <tr>\n",
       "      <th>13</th>\n",
       "      <td>autoai-kb_rt22.2-py3.10</td>\n",
       "      <td>125b6d9a-5b1f-5e8d-972a-b251688ccf40</td>\n",
       "      <td>base</td>\n",
       "      <td>supported</td>\n",
       "      <td></td>\n",
       "    </tr>\n",
       "    <tr>\n",
       "      <th>14</th>\n",
       "      <td>runtime-22.1-py3.9</td>\n",
       "      <td>12b83a17-24d8-5082-900f-0ab31fbfd3cb</td>\n",
       "      <td>base</td>\n",
       "      <td>unsupported</td>\n",
       "      <td>runtime-22.2-py3.10</td>\n",
       "    </tr>\n",
       "    <tr>\n",
       "      <th>15</th>\n",
       "      <td>masking-flows-spark</td>\n",
       "      <td>13666829-5570-53a7-927b-52d42a101d93</td>\n",
       "      <td>base</td>\n",
       "      <td>not_provided</td>\n",
       "      <td></td>\n",
       "    </tr>\n",
       "    <tr>\n",
       "      <th>16</th>\n",
       "      <td>kernel-spark3.3-py3.10</td>\n",
       "      <td>147e6777-ccd1-5886-8571-5356abc20839</td>\n",
       "      <td>base</td>\n",
       "      <td>not_provided</td>\n",
       "      <td></td>\n",
       "    </tr>\n",
       "    <tr>\n",
       "      <th>17</th>\n",
       "      <td>scikit-learn_0.22-py3.6</td>\n",
       "      <td>154010fa-5b3b-4ac1-82af-4d5ee5abbc85</td>\n",
       "      <td>base</td>\n",
       "      <td>unsupported</td>\n",
       "      <td>runtime-22.2-py3.10</td>\n",
       "    </tr>\n",
       "    <tr>\n",
       "      <th>18</th>\n",
       "      <td>pytorch-onnx_rt23.1-py3.10</td>\n",
       "      <td>195067e6-4c5e-5fab-8bd0-e7623a88b4d3</td>\n",
       "      <td>base</td>\n",
       "      <td>supported</td>\n",
       "      <td></td>\n",
       "    </tr>\n",
       "    <tr>\n",
       "      <th>19</th>\n",
       "      <td>default_r3.6</td>\n",
       "      <td>1b70aec3-ab34-4b87-8aa0-a4a3c8296a36</td>\n",
       "      <td>base</td>\n",
       "      <td>deprecated</td>\n",
       "      <td></td>\n",
       "    </tr>\n",
       "    <tr>\n",
       "      <th>20</th>\n",
       "      <td>pytorch-onnx_1.3-py3.6</td>\n",
       "      <td>1bc6029a-cc97-56da-b8e0-39c3880dbbe7</td>\n",
       "      <td>base</td>\n",
       "      <td>unsupported</td>\n",
       "      <td>runtime-22.2-py3.10</td>\n",
       "    </tr>\n",
       "    <tr>\n",
       "      <th>21</th>\n",
       "      <td>kernel-spark3.3-r3.6</td>\n",
       "      <td>1c9e5454-f216-59dd-a20e-474a5cdf5988</td>\n",
       "      <td>base</td>\n",
       "      <td>not_provided</td>\n",
       "      <td></td>\n",
       "    </tr>\n",
       "    <tr>\n",
       "      <th>22</th>\n",
       "      <td>tensorflow_2.1-py3.6</td>\n",
       "      <td>1eb25b84-d6ed-5dde-b6a5-3fbdf1665666</td>\n",
       "      <td>base</td>\n",
       "      <td>unsupported</td>\n",
       "      <td>runtime-22.2-py3.10</td>\n",
       "    </tr>\n",
       "    <tr>\n",
       "      <th>23</th>\n",
       "      <td>spark-mllib_3.2</td>\n",
       "      <td>20047f72-0a98-58c7-9ff5-a77b012eb8f5</td>\n",
       "      <td>base</td>\n",
       "      <td>unsupported</td>\n",
       "      <td>spark-mllib_3.3</td>\n",
       "    </tr>\n",
       "    <tr>\n",
       "      <th>24</th>\n",
       "      <td>tensorflow_2.4-py3.8-horovod</td>\n",
       "      <td>217c16f6-178f-56bf-824a-b19f20564c49</td>\n",
       "      <td>base</td>\n",
       "      <td>unsupported</td>\n",
       "      <td>tensorflow_rt22.2-py3.10</td>\n",
       "    </tr>\n",
       "    <tr>\n",
       "      <th>25</th>\n",
       "      <td>runtime-22.1-py3.9-cuda</td>\n",
       "      <td>26215f05-08c3-5a41-a1b0-da66306ce658</td>\n",
       "      <td>base</td>\n",
       "      <td>unsupported</td>\n",
       "      <td>runtime-22.2-py3.10-cuda</td>\n",
       "    </tr>\n",
       "    <tr>\n",
       "      <th>26</th>\n",
       "      <td>do_py3.8</td>\n",
       "      <td>295addb5-9ef9-547e-9bf4-92ae3563e720</td>\n",
       "      <td>base</td>\n",
       "      <td>not_provided</td>\n",
       "      <td></td>\n",
       "    </tr>\n",
       "    <tr>\n",
       "      <th>27</th>\n",
       "      <td>autoai-ts_3.8-py3.8</td>\n",
       "      <td>2aa0c932-798f-5ae9-abd6-15e0c2402fb5</td>\n",
       "      <td>base</td>\n",
       "      <td>unsupported</td>\n",
       "      <td>autoai-ts_rt22.2-py3.10</td>\n",
       "    </tr>\n",
       "    <tr>\n",
       "      <th>28</th>\n",
       "      <td>tensorflow_1.15-py3.6</td>\n",
       "      <td>2b73a275-7cbf-420b-a912-eae7f436e0bc</td>\n",
       "      <td>base</td>\n",
       "      <td>unsupported</td>\n",
       "      <td>runtime-22.2-py3.10</td>\n",
       "    </tr>\n",
       "    <tr>\n",
       "      <th>29</th>\n",
       "      <td>kernel-spark3.3-py3.9</td>\n",
       "      <td>2b7961e2-e3b1-5a8c-a491-482c8368839a</td>\n",
       "      <td>base</td>\n",
       "      <td>not_provided</td>\n",
       "      <td></td>\n",
       "    </tr>\n",
       "    <tr>\n",
       "      <th>30</th>\n",
       "      <td>pytorch_1.2-py3.6</td>\n",
       "      <td>2c8ef57d-2687-4b7d-acce-01f94976dac1</td>\n",
       "      <td>base</td>\n",
       "      <td>unsupported</td>\n",
       "      <td>runtime-22.2-py3.10</td>\n",
       "    </tr>\n",
       "    <tr>\n",
       "      <th>31</th>\n",
       "      <td>spark-mllib_2.3</td>\n",
       "      <td>2e51f700-bca0-4b0d-88dc-5c6791338875</td>\n",
       "      <td>base</td>\n",
       "      <td>create-unsupported</td>\n",
       "      <td>spark-mllib_3.3</td>\n",
       "    </tr>\n",
       "    <tr>\n",
       "      <th>32</th>\n",
       "      <td>pytorch-onnx_1.1-py3.6-edt</td>\n",
       "      <td>32983cea-3f32-4400-8965-dde874a8d67e</td>\n",
       "      <td>base</td>\n",
       "      <td>unsupported</td>\n",
       "      <td></td>\n",
       "    </tr>\n",
       "    <tr>\n",
       "      <th>33</th>\n",
       "      <td>spark-mllib_3.0-py37</td>\n",
       "      <td>36507ebe-8770-55ba-ab2a-eafe787600e9</td>\n",
       "      <td>base</td>\n",
       "      <td>unsupported</td>\n",
       "      <td>spark-mllib_3.3</td>\n",
       "    </tr>\n",
       "    <tr>\n",
       "      <th>34</th>\n",
       "      <td>spark-mllib_2.4</td>\n",
       "      <td>390d21f8-e58b-4fac-9c55-d7ceda621326</td>\n",
       "      <td>base</td>\n",
       "      <td>unsupported</td>\n",
       "      <td>spark-mllib_3.3</td>\n",
       "    </tr>\n",
       "    <tr>\n",
       "      <th>35</th>\n",
       "      <td>autoai-ts_rt22.2-py3.10</td>\n",
       "      <td>396b2e83-0953-5b86-9a55-7ce1628a406f</td>\n",
       "      <td>base</td>\n",
       "      <td>supported</td>\n",
       "      <td></td>\n",
       "    </tr>\n",
       "    <tr>\n",
       "      <th>36</th>\n",
       "      <td>xgboost_0.82-py3.6</td>\n",
       "      <td>39e31acd-5f30-41dc-ae44-60233c80306e</td>\n",
       "      <td>base</td>\n",
       "      <td>unsupported</td>\n",
       "      <td>runtime-22.2-py3.10</td>\n",
       "    </tr>\n",
       "    <tr>\n",
       "      <th>37</th>\n",
       "      <td>pytorch-onnx_1.2-py3.6-edt</td>\n",
       "      <td>40589d0e-7019-4e28-8daa-fb03b6f4fe12</td>\n",
       "      <td>base</td>\n",
       "      <td>unsupported</td>\n",
       "      <td></td>\n",
       "    </tr>\n",
       "    <tr>\n",
       "      <th>38</th>\n",
       "      <td>pytorch-onnx_rt22.2-py3.10</td>\n",
       "      <td>40e73f55-783a-5535-b3fa-0c8b94291431</td>\n",
       "      <td>base</td>\n",
       "      <td>supported</td>\n",
       "      <td></td>\n",
       "    </tr>\n",
       "    <tr>\n",
       "      <th>39</th>\n",
       "      <td>default_r36py38</td>\n",
       "      <td>41c247d3-45f8-5a71-b065-8580229facf0</td>\n",
       "      <td>base</td>\n",
       "      <td>not_provided</td>\n",
       "      <td></td>\n",
       "    </tr>\n",
       "    <tr>\n",
       "      <th>40</th>\n",
       "      <td>autoai-ts_rt22.1-py3.9</td>\n",
       "      <td>4269d26e-07ba-5d40-8f66-2d495b0c71f7</td>\n",
       "      <td>base</td>\n",
       "      <td>unsupported</td>\n",
       "      <td>autoai-ts_rt22.2-py3.10</td>\n",
       "    </tr>\n",
       "    <tr>\n",
       "      <th>41</th>\n",
       "      <td>autoai-obm_3.0</td>\n",
       "      <td>42b92e18-d9ab-567f-988a-4240ba1ed5f7</td>\n",
       "      <td>base</td>\n",
       "      <td>unsupported</td>\n",
       "      <td>autoai-obm_3.2</td>\n",
       "    </tr>\n",
       "    <tr>\n",
       "      <th>42</th>\n",
       "      <td>pmml-3.0_4.3</td>\n",
       "      <td>493bcb95-16f1-5bc5-bee8-81b8af80e9c7</td>\n",
       "      <td>base</td>\n",
       "      <td>supported</td>\n",
       "      <td></td>\n",
       "    </tr>\n",
       "    <tr>\n",
       "      <th>43</th>\n",
       "      <td>spark-mllib_2.4-r_3.6</td>\n",
       "      <td>49403dff-92e9-4c87-a3d7-a42d0021c095</td>\n",
       "      <td>base</td>\n",
       "      <td>unsupported</td>\n",
       "      <td>spark-mllib_3.3</td>\n",
       "    </tr>\n",
       "    <tr>\n",
       "      <th>44</th>\n",
       "      <td>xgboost_0.90-py3.6</td>\n",
       "      <td>4ff8d6c2-1343-4c18-85e1-689c965304d3</td>\n",
       "      <td>base</td>\n",
       "      <td>unsupported</td>\n",
       "      <td>runtime-22.2-py3.10</td>\n",
       "    </tr>\n",
       "    <tr>\n",
       "      <th>45</th>\n",
       "      <td>pytorch-onnx_1.1-py3.6</td>\n",
       "      <td>50f95b2a-bc16-43bb-bc94-b0bed208c60b</td>\n",
       "      <td>base</td>\n",
       "      <td>unsupported</td>\n",
       "      <td>runtime-22.2-py3.10</td>\n",
       "    </tr>\n",
       "    <tr>\n",
       "      <th>46</th>\n",
       "      <td>autoai-ts_3.9-py3.8</td>\n",
       "      <td>52c57136-80fa-572e-8728-a5e7cbb42cde</td>\n",
       "      <td>base</td>\n",
       "      <td>unsupported</td>\n",
       "      <td>autoai-ts_rt22.2-py3.10</td>\n",
       "    </tr>\n",
       "    <tr>\n",
       "      <th>47</th>\n",
       "      <td>spark-mllib_2.4-scala_2.11</td>\n",
       "      <td>55a70f99-7320-4be5-9fb9-9edb5a443af5</td>\n",
       "      <td>base</td>\n",
       "      <td>unsupported</td>\n",
       "      <td>spark-mllib_3.3</td>\n",
       "    </tr>\n",
       "    <tr>\n",
       "      <th>48</th>\n",
       "      <td>spark-mllib_3.0</td>\n",
       "      <td>5c1b0ca2-4977-5c2e-9439-ffd44ea8ffe9</td>\n",
       "      <td>base</td>\n",
       "      <td>unsupported</td>\n",
       "      <td>spark-mllib_3.3</td>\n",
       "    </tr>\n",
       "    <tr>\n",
       "      <th>49</th>\n",
       "      <td>autoai-obm_2.0</td>\n",
       "      <td>5c2e37fa-80b8-5e77-840f-d912469614ee</td>\n",
       "      <td>base</td>\n",
       "      <td>unsupported</td>\n",
       "      <td>autoai-obm_3.2</td>\n",
       "    </tr>\n",
       "  </tbody>\n",
       "</table>\n",
       "</div>"
      ],
      "text/plain": [
       "                            NAME                                    ID  TYPE  \\\n",
       "0                  default_py3.6  0062b8c9-8b7d-44a0-a9b9-46c416adcbd9  base   \n",
       "1        autoai-ts_rt23.1-py3.10  01ce9391-1a79-5a33-94fb-2e134337f314  base   \n",
       "2      kernel-spark3.2-scala2.12  020d69ce-7ac1-5e68-ac1a-31189867356a  base   \n",
       "3     pytorch-onnx_1.3-py3.7-edt  069ea134-3346-5748-b513-49120e15d288  base   \n",
       "4       tensorflow_rt23.1-py3.10  079a91e0-245f-5269-8926-3c20b28f37dc  base   \n",
       "5        scikit-learn_0.20-py3.6  09c5a1d0-9c1e-4473-a344-eb7b665ff687  base   \n",
       "6     spark-mllib_3.0-scala_2.12  09f4cff0-90a7-5899-b9ed-1ef348aebdee  base   \n",
       "7      pytorch-onnx_rt22.1-py3.9  0b848dd4-e681-5599-be41-b5f6fccc6471  base   \n",
       "8          ai-function_0.1-py3.6  0cdb0f1e-5376-4f4d-92dd-da3b69aa9bda  base   \n",
       "9                     shiny-r3.6  0e6e79df-875e-4f24-8ae9-62dcc2148306  base   \n",
       "10  tensorflow_2.4-py3.7-horovod  1092590a-307d-563d-9b62-4eb7d64b3f22  base   \n",
       "11             pytorch_1.1-py3.6  10ac12d6-6b30-4ccd-8392-3e922c096a92  base   \n",
       "12     tensorflow_1.15-py3.6-ddl  111e41b3-de2d-5422-a4d6-bf776828c4b7  base   \n",
       "13       autoai-kb_rt22.2-py3.10  125b6d9a-5b1f-5e8d-972a-b251688ccf40  base   \n",
       "14            runtime-22.1-py3.9  12b83a17-24d8-5082-900f-0ab31fbfd3cb  base   \n",
       "15           masking-flows-spark  13666829-5570-53a7-927b-52d42a101d93  base   \n",
       "16        kernel-spark3.3-py3.10  147e6777-ccd1-5886-8571-5356abc20839  base   \n",
       "17       scikit-learn_0.22-py3.6  154010fa-5b3b-4ac1-82af-4d5ee5abbc85  base   \n",
       "18    pytorch-onnx_rt23.1-py3.10  195067e6-4c5e-5fab-8bd0-e7623a88b4d3  base   \n",
       "19                  default_r3.6  1b70aec3-ab34-4b87-8aa0-a4a3c8296a36  base   \n",
       "20        pytorch-onnx_1.3-py3.6  1bc6029a-cc97-56da-b8e0-39c3880dbbe7  base   \n",
       "21          kernel-spark3.3-r3.6  1c9e5454-f216-59dd-a20e-474a5cdf5988  base   \n",
       "22          tensorflow_2.1-py3.6  1eb25b84-d6ed-5dde-b6a5-3fbdf1665666  base   \n",
       "23               spark-mllib_3.2  20047f72-0a98-58c7-9ff5-a77b012eb8f5  base   \n",
       "24  tensorflow_2.4-py3.8-horovod  217c16f6-178f-56bf-824a-b19f20564c49  base   \n",
       "25       runtime-22.1-py3.9-cuda  26215f05-08c3-5a41-a1b0-da66306ce658  base   \n",
       "26                      do_py3.8  295addb5-9ef9-547e-9bf4-92ae3563e720  base   \n",
       "27           autoai-ts_3.8-py3.8  2aa0c932-798f-5ae9-abd6-15e0c2402fb5  base   \n",
       "28         tensorflow_1.15-py3.6  2b73a275-7cbf-420b-a912-eae7f436e0bc  base   \n",
       "29         kernel-spark3.3-py3.9  2b7961e2-e3b1-5a8c-a491-482c8368839a  base   \n",
       "30             pytorch_1.2-py3.6  2c8ef57d-2687-4b7d-acce-01f94976dac1  base   \n",
       "31               spark-mllib_2.3  2e51f700-bca0-4b0d-88dc-5c6791338875  base   \n",
       "32    pytorch-onnx_1.1-py3.6-edt  32983cea-3f32-4400-8965-dde874a8d67e  base   \n",
       "33          spark-mllib_3.0-py37  36507ebe-8770-55ba-ab2a-eafe787600e9  base   \n",
       "34               spark-mllib_2.4  390d21f8-e58b-4fac-9c55-d7ceda621326  base   \n",
       "35       autoai-ts_rt22.2-py3.10  396b2e83-0953-5b86-9a55-7ce1628a406f  base   \n",
       "36            xgboost_0.82-py3.6  39e31acd-5f30-41dc-ae44-60233c80306e  base   \n",
       "37    pytorch-onnx_1.2-py3.6-edt  40589d0e-7019-4e28-8daa-fb03b6f4fe12  base   \n",
       "38    pytorch-onnx_rt22.2-py3.10  40e73f55-783a-5535-b3fa-0c8b94291431  base   \n",
       "39               default_r36py38  41c247d3-45f8-5a71-b065-8580229facf0  base   \n",
       "40        autoai-ts_rt22.1-py3.9  4269d26e-07ba-5d40-8f66-2d495b0c71f7  base   \n",
       "41                autoai-obm_3.0  42b92e18-d9ab-567f-988a-4240ba1ed5f7  base   \n",
       "42                  pmml-3.0_4.3  493bcb95-16f1-5bc5-bee8-81b8af80e9c7  base   \n",
       "43         spark-mllib_2.4-r_3.6  49403dff-92e9-4c87-a3d7-a42d0021c095  base   \n",
       "44            xgboost_0.90-py3.6  4ff8d6c2-1343-4c18-85e1-689c965304d3  base   \n",
       "45        pytorch-onnx_1.1-py3.6  50f95b2a-bc16-43bb-bc94-b0bed208c60b  base   \n",
       "46           autoai-ts_3.9-py3.8  52c57136-80fa-572e-8728-a5e7cbb42cde  base   \n",
       "47    spark-mllib_2.4-scala_2.11  55a70f99-7320-4be5-9fb9-9edb5a443af5  base   \n",
       "48               spark-mllib_3.0  5c1b0ca2-4977-5c2e-9439-ffd44ea8ffe9  base   \n",
       "49                autoai-obm_2.0  5c2e37fa-80b8-5e77-840f-d912469614ee  base   \n",
       "\n",
       "                 STATE                 REPLACEMENT  \n",
       "0          unsupported         runtime-22.2-py3.10  \n",
       "1            supported                              \n",
       "2         not_provided                              \n",
       "3         not_provided                              \n",
       "4            supported                              \n",
       "5          unsupported         runtime-22.2-py3.10  \n",
       "6          unsupported                              \n",
       "7          unsupported  pytorch-onnx_rt22.2-py3.10  \n",
       "8          unsupported         runtime-22.2-py3.10  \n",
       "9         not_provided                              \n",
       "10         unsupported    tensorflow_rt22.2-py3.10  \n",
       "11         unsupported                              \n",
       "12         unsupported                              \n",
       "13           supported                              \n",
       "14         unsupported         runtime-22.2-py3.10  \n",
       "15        not_provided                              \n",
       "16        not_provided                              \n",
       "17         unsupported         runtime-22.2-py3.10  \n",
       "18           supported                              \n",
       "19          deprecated                              \n",
       "20         unsupported         runtime-22.2-py3.10  \n",
       "21        not_provided                              \n",
       "22         unsupported         runtime-22.2-py3.10  \n",
       "23         unsupported             spark-mllib_3.3  \n",
       "24         unsupported    tensorflow_rt22.2-py3.10  \n",
       "25         unsupported    runtime-22.2-py3.10-cuda  \n",
       "26        not_provided                              \n",
       "27         unsupported     autoai-ts_rt22.2-py3.10  \n",
       "28         unsupported         runtime-22.2-py3.10  \n",
       "29        not_provided                              \n",
       "30         unsupported         runtime-22.2-py3.10  \n",
       "31  create-unsupported             spark-mllib_3.3  \n",
       "32         unsupported                              \n",
       "33         unsupported             spark-mllib_3.3  \n",
       "34         unsupported             spark-mllib_3.3  \n",
       "35           supported                              \n",
       "36         unsupported         runtime-22.2-py3.10  \n",
       "37         unsupported                              \n",
       "38           supported                              \n",
       "39        not_provided                              \n",
       "40         unsupported     autoai-ts_rt22.2-py3.10  \n",
       "41         unsupported              autoai-obm_3.2  \n",
       "42           supported                              \n",
       "43         unsupported             spark-mllib_3.3  \n",
       "44         unsupported         runtime-22.2-py3.10  \n",
       "45         unsupported         runtime-22.2-py3.10  \n",
       "46         unsupported     autoai-ts_rt22.2-py3.10  \n",
       "47         unsupported             spark-mllib_3.3  \n",
       "48         unsupported             spark-mllib_3.3  \n",
       "49         unsupported              autoai-obm_3.2  "
      ]
     },
     "execution_count": 10,
     "metadata": {},
     "output_type": "execute_result"
    }
   ],
   "source": [
    "client.software_specifications.list()"
   ]
  },
  {
   "cell_type": "code",
   "execution_count": 11,
   "metadata": {},
   "outputs": [
    {
     "data": {
      "text/plain": [
       "'b56101f1-309d-549b-a849-eaa63f77b2fb'"
      ]
     },
     "execution_count": 11,
     "metadata": {},
     "output_type": "execute_result"
    }
   ],
   "source": [
    "software_space_uid=client.software_specifications.get_uid_by_name(\"runtime-22.2-py3.10\")\n",
    "software_space_uid"
   ]
  },
  {
   "cell_type": "code",
   "execution_count": 12,
   "metadata": {},
   "outputs": [],
   "source": [
    "from tensorflow.keras.models import Sequential \n",
    "from tensorflow.keras.layers import Conv3D, LSTM, Dense, Dropout, Bidirectional, MaxPool3D, Activation, Reshape, SpatialDropout3D, BatchNormalization, TimeDistributed, Flatten\n",
    "from tensorflow.keras.optimizers import Adam\n",
    "from tensorflow.keras.callbacks import ModelCheckpoint, LearningRateScheduler"
   ]
  },
  {
   "cell_type": "code",
   "execution_count": 16,
   "metadata": {},
   "outputs": [],
   "source": [
    "model = Sequential()\n",
    "model.add(Conv3D(128, 3, input_shape=(75,46,140,1), padding='same'))\n",
    "model.add(Activation('relu'))\n",
    "model.add(MaxPool3D((1,2,2)))\n",
    "\n",
    "model.add(Conv3D(256, 3, padding='same'))\n",
    "model.add(Activation('relu'))\n",
    "model.add(MaxPool3D((1,2,2)))\n",
    "\n",
    "model.add(Conv3D(75, 3, padding='same'))\n",
    "model.add(Activation('relu'))\n",
    "model.add(MaxPool3D((1,2,2)))\n",
    "\n",
    "model.add(TimeDistributed(Flatten()))\n",
    "\n",
    "model.add(Bidirectional(LSTM(128, kernel_initializer='Orthogonal', return_sequences=True)))\n",
    "model.add(Dropout(.5))\n",
    "\n",
    "model.add(Bidirectional(LSTM(128, kernel_initializer='Orthogonal', return_sequences=True)))\n",
    "model.add(Dropout(.5))\n",
    "\n",
    "model.add(Dense(char_to_num.vocabulary_size()+1, kernel_initializer='he_normal', activation='softmax'))"
   ]
  },
  {
   "cell_type": "code",
   "execution_count": 14,
   "metadata": {},
   "outputs": [],
   "source": [
    "vocab = [x for x in \"abcdefghijklmnopqrstuvwxyz'?!123456789 \"]"
   ]
  },
  {
   "cell_type": "code",
   "execution_count": 15,
   "metadata": {},
   "outputs": [],
   "source": [
    "char_to_num = tf.keras.layers.StringLookup(vocabulary=vocab, oov_token=\"\")\n",
    "num_to_char = tf.keras.layers.StringLookup(\n",
    "    vocabulary=char_to_num.get_vocabulary(), oov_token=\"\", invert=True\n",
    ")"
   ]
  },
  {
   "cell_type": "code",
   "execution_count": 17,
   "metadata": {},
   "outputs": [
    {
     "name": "stdout",
     "output_type": "stream",
     "text": [
      "Model: \"sequential_1\"\n",
      "_________________________________________________________________\n",
      " Layer (type)                Output Shape              Param #   \n",
      "=================================================================\n",
      " conv3d_3 (Conv3D)           (None, 75, 46, 140, 128   3584      \n",
      "                             )                                   \n",
      "                                                                 \n",
      " activation_3 (Activation)   (None, 75, 46, 140, 128   0         \n",
      "                             )                                   \n",
      "                                                                 \n",
      " max_pooling3d_3 (MaxPoolin  (None, 75, 23, 70, 128)   0         \n",
      " g3D)                                                            \n",
      "                                                                 \n",
      " conv3d_4 (Conv3D)           (None, 75, 23, 70, 256)   884992    \n",
      "                                                                 \n",
      " activation_4 (Activation)   (None, 75, 23, 70, 256)   0         \n",
      "                                                                 \n",
      " max_pooling3d_4 (MaxPoolin  (None, 75, 11, 35, 256)   0         \n",
      " g3D)                                                            \n",
      "                                                                 \n",
      " conv3d_5 (Conv3D)           (None, 75, 11, 35, 75)    518475    \n",
      "                                                                 \n",
      " activation_5 (Activation)   (None, 75, 11, 35, 75)    0         \n",
      "                                                                 \n",
      " max_pooling3d_5 (MaxPoolin  (None, 75, 5, 17, 75)     0         \n",
      " g3D)                                                            \n",
      "                                                                 \n",
      " time_distributed_1 (TimeDi  (None, 75, 6375)          0         \n",
      " stributed)                                                      \n",
      "                                                                 \n",
      " bidirectional_2 (Bidirecti  (None, 75, 256)           6660096   \n",
      " onal)                                                           \n",
      "                                                                 \n",
      " dropout_2 (Dropout)         (None, 75, 256)           0         \n",
      "                                                                 \n",
      " bidirectional_3 (Bidirecti  (None, 75, 256)           394240    \n",
      " onal)                                                           \n",
      "                                                                 \n",
      " dropout_3 (Dropout)         (None, 75, 256)           0         \n",
      "                                                                 \n",
      " dense (Dense)               (None, 75, 41)            10537     \n",
      "                                                                 \n",
      "=================================================================\n",
      "Total params: 8471924 (32.32 MB)\n",
      "Trainable params: 8471924 (32.32 MB)\n",
      "Non-trainable params: 0 (0.00 Byte)\n",
      "_________________________________________________________________\n"
     ]
    }
   ],
   "source": [
    "model.summary()"
   ]
  },
  {
   "cell_type": "code",
   "execution_count": 18,
   "metadata": {},
   "outputs": [
    {
     "name": "stdout",
     "output_type": "stream",
     "text": [
      "WARNING:tensorflow:Compiled the loaded model, but the compiled metrics have yet to be built. `model.compile_metrics` will be empty until you train or evaluate the model.\n"
     ]
    },
    {
     "name": "stderr",
     "output_type": "stream",
     "text": [
      "/Users/chaitanyatandon/Library/Python/3.9/lib/python/site-packages/keras/src/engine/training.py:3000: UserWarning: You are saving your model as an HDF5 file via `model.save()`. This file format is considered legacy. We recommend using instead the native Keras format, e.g. `model.save('my_model.keras')`.\n",
      "  saving_api.save_model(\n"
     ]
    }
   ],
   "source": [
    "model.save(\"lipbud.h5\")"
   ]
  },
  {
   "cell_type": "code",
   "execution_count": 73,
   "metadata": {},
   "outputs": [
    {
     "name": "stdout",
     "output_type": "stream",
     "text": [
      "a lipbud.h5\n"
     ]
    }
   ],
   "source": [
    "!tar -zcvf lipbud.tgz lipbud.h5"
   ]
  },
  {
   "cell_type": "code",
   "execution_count": 74,
   "metadata": {},
   "outputs": [],
   "source": [
    "model_details=client.repository.store_model(model=\"lipbud.tgz\",meta_props={\n",
    "    client.repository.ModelMetaNames.NAME:\"lipbud.h5\",\n",
    "    client.repository.ModelMetaNames.TYPE:\"tensorflow_2.9\",\n",
    "    client.repository.ModelMetaNames.SOFTWARE_SPEC_UID:software_space_uid\n",
    "})"
   ]
  },
  {
   "cell_type": "code",
   "execution_count": 75,
   "metadata": {},
   "outputs": [
    {
     "data": {
      "text/plain": [
       "'928ca4b3-02aa-4c90-9eaf-72dc26a15ff8'"
      ]
     },
     "execution_count": 75,
     "metadata": {},
     "output_type": "execute_result"
    }
   ],
   "source": [
    "model_id=client.repository.get_model_id(model_details)\n",
    "model_id"
   ]
  },
  {
   "cell_type": "code",
   "execution_count": 77,
   "metadata": {},
   "outputs": [
    {
     "name": "stdout",
     "output_type": "stream",
     "text": [
      "Successfully saved model content to file: 'lipbud3.tgz'\n"
     ]
    },
    {
     "data": {
      "text/plain": [
       "'/Users/chaitanyatandon/Desktop/LIPBUDDIES/lipbud3.tgz'"
      ]
     },
     "execution_count": 77,
     "metadata": {},
     "output_type": "execute_result"
    }
   ],
   "source": [
    "client.repository.download(model_id,'lipbud3.tgz')"
   ]
  },
  {
   "cell_type": "code",
   "execution_count": 78,
   "metadata": {},
   "outputs": [
    {
     "data": {
      "text/plain": [
       "'928ca4b3-02aa-4c90-9eaf-72dc26a15ff8'"
      ]
     },
     "execution_count": 78,
     "metadata": {},
     "output_type": "execute_result"
    }
   ],
   "source": [
    "model_id=client.repository.get_model_id(model_details)\n",
    "model_id"
   ]
  },
  {
   "cell_type": "code",
   "execution_count": 25,
   "metadata": {},
   "outputs": [
    {
     "data": {
      "text/plain": [
       "<tensorflow.python.checkpoint.checkpoint.CheckpointLoadStatus at 0x160472fa0>"
      ]
     },
     "execution_count": 25,
     "metadata": {},
     "output_type": "execute_result"
    }
   ],
   "source": [
    "model.load_weights('models/checkpoint')"
   ]
  },
  {
   "cell_type": "code",
   "execution_count": 26,
   "metadata": {},
   "outputs": [
    {
     "name": "stdout",
     "output_type": "stream",
     "text": [
      "WARNING:tensorflow:Compiled the loaded model, but the compiled metrics have yet to be built. `model.compile_metrics` will be empty until you train or evaluate the model.\n"
     ]
    },
    {
     "name": "stderr",
     "output_type": "stream",
     "text": [
      "/Users/chaitanyatandon/Library/Python/3.9/lib/python/site-packages/keras/src/engine/training.py:3000: UserWarning: You are saving your model as an HDF5 file via `model.save()`. This file format is considered legacy. We recommend using instead the native Keras format, e.g. `model.save('my_model.keras')`.\n",
      "  saving_api.save_model(\n"
     ]
    }
   ],
   "source": [
    "model.save(\"lipbud.h5\")"
   ]
  },
  {
   "cell_type": "code",
   "execution_count": 34,
   "metadata": {},
   "outputs": [
    {
     "name": "stderr",
     "output_type": "stream",
     "text": [
      "Downloading...\n",
      "From (uriginal): https://drive.google.com/uc?id=1vWscXs4Vt0a_1IH1-ct2TCgXAZT-N3_Y\n",
      "From (redirected): https://drive.google.com/uc?id=1vWscXs4Vt0a_1IH1-ct2TCgXAZT-N3_Y&confirm=t&uuid=157e36ac-0282-4772-8985-99104cd9a1a2\n",
      "To: /Users/chaitanyatandon/Desktop/LIPBUDDIES/checkpoints.zip\n",
      "100%|██████████| 94.5M/94.5M [00:31<00:00, 3.02MB/s]\n"
     ]
    },
    {
     "data": {
      "text/plain": [
       "['models/checkpoint.index',\n",
       " 'models/__MACOSX/._checkpoint.index',\n",
       " 'models/checkpoint.data-00000-of-00001',\n",
       " 'models/__MACOSX/._checkpoint.data-00000-of-00001',\n",
       " 'models/checkpoint',\n",
       " 'models/__MACOSX/._checkpoint']"
      ]
     },
     "execution_count": 34,
     "metadata": {},
     "output_type": "execute_result"
    }
   ],
   "source": [
    "url = 'https://drive.google.com/uc?id=1vWscXs4Vt0a_1IH1-ct2TCgXAZT-N3_Y'\n",
    "output = 'checkpoints.zip'\n",
    "gdown.download(url, output, quiet=False)\n",
    "gdown.extractall('checkpoints.zip', 'models')"
   ]
  },
  {
   "cell_type": "code",
   "execution_count": 28,
   "metadata": {},
   "outputs": [
    {
     "name": "stdout",
     "output_type": "stream",
     "text": [
      "Requirement already satisfied: opencv-python in /Users/chaitanyatandon/anaconda3/lib/python3.11/site-packages (4.8.0.76)\n",
      "Requirement already satisfied: matplotlib in /Users/chaitanyatandon/anaconda3/lib/python3.11/site-packages (3.7.1)\n",
      "Requirement already satisfied: imageio in /Users/chaitanyatandon/anaconda3/lib/python3.11/site-packages (2.31.1)\n",
      "Requirement already satisfied: gdown in /Users/chaitanyatandon/anaconda3/lib/python3.11/site-packages (4.7.1)\n",
      "Requirement already satisfied: tensorflow in /Users/chaitanyatandon/anaconda3/lib/python3.11/site-packages (2.13.0)\n",
      "Requirement already satisfied: numpy>=1.21.2 in /Users/chaitanyatandon/anaconda3/lib/python3.11/site-packages (from opencv-python) (1.24.3)\n",
      "Requirement already satisfied: contourpy>=1.0.1 in /Users/chaitanyatandon/anaconda3/lib/python3.11/site-packages (from matplotlib) (1.0.5)\n",
      "Requirement already satisfied: cycler>=0.10 in /Users/chaitanyatandon/anaconda3/lib/python3.11/site-packages (from matplotlib) (0.11.0)\n",
      "Requirement already satisfied: fonttools>=4.22.0 in /Users/chaitanyatandon/anaconda3/lib/python3.11/site-packages (from matplotlib) (4.25.0)\n",
      "Requirement already satisfied: kiwisolver>=1.0.1 in /Users/chaitanyatandon/anaconda3/lib/python3.11/site-packages (from matplotlib) (1.4.4)\n",
      "Requirement already satisfied: packaging>=20.0 in /Users/chaitanyatandon/anaconda3/lib/python3.11/site-packages (from matplotlib) (23.0)\n",
      "Requirement already satisfied: pillow>=6.2.0 in /Users/chaitanyatandon/anaconda3/lib/python3.11/site-packages (from matplotlib) (9.4.0)\n",
      "Requirement already satisfied: pyparsing>=2.3.1 in /Users/chaitanyatandon/anaconda3/lib/python3.11/site-packages (from matplotlib) (3.0.9)\n",
      "Requirement already satisfied: python-dateutil>=2.7 in /Users/chaitanyatandon/anaconda3/lib/python3.11/site-packages (from matplotlib) (2.8.2)\n",
      "Requirement already satisfied: filelock in /Users/chaitanyatandon/anaconda3/lib/python3.11/site-packages (from gdown) (3.9.0)\n",
      "Requirement already satisfied: requests[socks] in /Users/chaitanyatandon/anaconda3/lib/python3.11/site-packages (from gdown) (2.31.0)\n",
      "Requirement already satisfied: six in /Users/chaitanyatandon/anaconda3/lib/python3.11/site-packages (from gdown) (1.16.0)\n",
      "Requirement already satisfied: tqdm in /Users/chaitanyatandon/anaconda3/lib/python3.11/site-packages (from gdown) (4.65.0)\n",
      "Requirement already satisfied: beautifulsoup4 in /Users/chaitanyatandon/anaconda3/lib/python3.11/site-packages (from gdown) (4.12.2)\n",
      "Requirement already satisfied: tensorflow-macos==2.13.0 in /Users/chaitanyatandon/anaconda3/lib/python3.11/site-packages (from tensorflow) (2.13.0)\n",
      "Requirement already satisfied: absl-py>=1.0.0 in /Users/chaitanyatandon/anaconda3/lib/python3.11/site-packages (from tensorflow-macos==2.13.0->tensorflow) (1.4.0)\n",
      "Requirement already satisfied: astunparse>=1.6.0 in /Users/chaitanyatandon/anaconda3/lib/python3.11/site-packages (from tensorflow-macos==2.13.0->tensorflow) (1.6.3)\n",
      "Requirement already satisfied: flatbuffers>=23.1.21 in /Users/chaitanyatandon/anaconda3/lib/python3.11/site-packages (from tensorflow-macos==2.13.0->tensorflow) (23.5.26)\n",
      "Requirement already satisfied: gast<=0.4.0,>=0.2.1 in /Users/chaitanyatandon/anaconda3/lib/python3.11/site-packages (from tensorflow-macos==2.13.0->tensorflow) (0.4.0)\n",
      "Requirement already satisfied: google-pasta>=0.1.1 in /Users/chaitanyatandon/anaconda3/lib/python3.11/site-packages (from tensorflow-macos==2.13.0->tensorflow) (0.2.0)\n",
      "Requirement already satisfied: h5py>=2.9.0 in /Users/chaitanyatandon/anaconda3/lib/python3.11/site-packages (from tensorflow-macos==2.13.0->tensorflow) (3.7.0)\n",
      "Requirement already satisfied: libclang>=13.0.0 in /Users/chaitanyatandon/anaconda3/lib/python3.11/site-packages (from tensorflow-macos==2.13.0->tensorflow) (16.0.6)\n",
      "Requirement already satisfied: opt-einsum>=2.3.2 in /Users/chaitanyatandon/anaconda3/lib/python3.11/site-packages (from tensorflow-macos==2.13.0->tensorflow) (3.3.0)\n",
      "Requirement already satisfied: protobuf!=4.21.0,!=4.21.1,!=4.21.2,!=4.21.3,!=4.21.4,!=4.21.5,<5.0.0dev,>=3.20.3 in /Users/chaitanyatandon/anaconda3/lib/python3.11/site-packages (from tensorflow-macos==2.13.0->tensorflow) (4.24.1)\n",
      "Requirement already satisfied: setuptools in /Users/chaitanyatandon/anaconda3/lib/python3.11/site-packages (from tensorflow-macos==2.13.0->tensorflow) (68.0.0)\n",
      "Requirement already satisfied: termcolor>=1.1.0 in /Users/chaitanyatandon/anaconda3/lib/python3.11/site-packages (from tensorflow-macos==2.13.0->tensorflow) (2.3.0)\n",
      "Requirement already satisfied: typing-extensions<4.6.0,>=3.6.6 in /Users/chaitanyatandon/anaconda3/lib/python3.11/site-packages (from tensorflow-macos==2.13.0->tensorflow) (4.5.0)\n",
      "Requirement already satisfied: wrapt>=1.11.0 in /Users/chaitanyatandon/anaconda3/lib/python3.11/site-packages (from tensorflow-macos==2.13.0->tensorflow) (1.14.1)\n",
      "Requirement already satisfied: grpcio<2.0,>=1.24.3 in /Users/chaitanyatandon/anaconda3/lib/python3.11/site-packages (from tensorflow-macos==2.13.0->tensorflow) (1.57.0)\n",
      "Requirement already satisfied: tensorboard<2.14,>=2.13 in /Users/chaitanyatandon/anaconda3/lib/python3.11/site-packages (from tensorflow-macos==2.13.0->tensorflow) (2.13.0)\n",
      "Requirement already satisfied: tensorflow-estimator<2.14,>=2.13.0 in /Users/chaitanyatandon/anaconda3/lib/python3.11/site-packages (from tensorflow-macos==2.13.0->tensorflow) (2.13.0)\n",
      "Requirement already satisfied: keras<2.14,>=2.13.1 in /Users/chaitanyatandon/anaconda3/lib/python3.11/site-packages (from tensorflow-macos==2.13.0->tensorflow) (2.13.1)\n",
      "Requirement already satisfied: soupsieve>1.2 in /Users/chaitanyatandon/anaconda3/lib/python3.11/site-packages (from beautifulsoup4->gdown) (2.4)\n",
      "Requirement already satisfied: charset-normalizer<4,>=2 in /Users/chaitanyatandon/anaconda3/lib/python3.11/site-packages (from requests[socks]->gdown) (2.0.4)\n",
      "Requirement already satisfied: idna<4,>=2.5 in /Users/chaitanyatandon/anaconda3/lib/python3.11/site-packages (from requests[socks]->gdown) (3.4)\n",
      "Requirement already satisfied: urllib3<3,>=1.21.1 in /Users/chaitanyatandon/anaconda3/lib/python3.11/site-packages (from requests[socks]->gdown) (1.26.16)\n",
      "Requirement already satisfied: certifi>=2017.4.17 in /Users/chaitanyatandon/anaconda3/lib/python3.11/site-packages (from requests[socks]->gdown) (2023.7.22)\n",
      "Requirement already satisfied: PySocks!=1.5.7,>=1.5.6 in /Users/chaitanyatandon/anaconda3/lib/python3.11/site-packages (from requests[socks]->gdown) (1.7.1)\n",
      "Requirement already satisfied: wheel<1.0,>=0.23.0 in /Users/chaitanyatandon/anaconda3/lib/python3.11/site-packages (from astunparse>=1.6.0->tensorflow-macos==2.13.0->tensorflow) (0.38.4)\n",
      "Requirement already satisfied: google-auth<3,>=1.6.3 in /Users/chaitanyatandon/anaconda3/lib/python3.11/site-packages (from tensorboard<2.14,>=2.13->tensorflow-macos==2.13.0->tensorflow) (2.22.0)\n",
      "Requirement already satisfied: google-auth-oauthlib<1.1,>=0.5 in /Users/chaitanyatandon/anaconda3/lib/python3.11/site-packages (from tensorboard<2.14,>=2.13->tensorflow-macos==2.13.0->tensorflow) (1.0.0)\n",
      "Requirement already satisfied: markdown>=2.6.8 in /Users/chaitanyatandon/anaconda3/lib/python3.11/site-packages (from tensorboard<2.14,>=2.13->tensorflow-macos==2.13.0->tensorflow) (3.4.1)\n",
      "Requirement already satisfied: tensorboard-data-server<0.8.0,>=0.7.0 in /Users/chaitanyatandon/anaconda3/lib/python3.11/site-packages (from tensorboard<2.14,>=2.13->tensorflow-macos==2.13.0->tensorflow) (0.7.1)\n",
      "Requirement already satisfied: werkzeug>=1.0.1 in /Users/chaitanyatandon/anaconda3/lib/python3.11/site-packages (from tensorboard<2.14,>=2.13->tensorflow-macos==2.13.0->tensorflow) (2.2.3)\n",
      "Requirement already satisfied: cachetools<6.0,>=2.0.0 in /Users/chaitanyatandon/anaconda3/lib/python3.11/site-packages (from google-auth<3,>=1.6.3->tensorboard<2.14,>=2.13->tensorflow-macos==2.13.0->tensorflow) (5.3.1)\n",
      "Requirement already satisfied: pyasn1-modules>=0.2.1 in /Users/chaitanyatandon/anaconda3/lib/python3.11/site-packages (from google-auth<3,>=1.6.3->tensorboard<2.14,>=2.13->tensorflow-macos==2.13.0->tensorflow) (0.2.8)\n",
      "Requirement already satisfied: rsa<5,>=3.1.4 in /Users/chaitanyatandon/anaconda3/lib/python3.11/site-packages (from google-auth<3,>=1.6.3->tensorboard<2.14,>=2.13->tensorflow-macos==2.13.0->tensorflow) (4.9)\n",
      "Requirement already satisfied: requests-oauthlib>=0.7.0 in /Users/chaitanyatandon/anaconda3/lib/python3.11/site-packages (from google-auth-oauthlib<1.1,>=0.5->tensorboard<2.14,>=2.13->tensorflow-macos==2.13.0->tensorflow) (1.3.1)\n",
      "Requirement already satisfied: MarkupSafe>=2.1.1 in /Users/chaitanyatandon/anaconda3/lib/python3.11/site-packages (from werkzeug>=1.0.1->tensorboard<2.14,>=2.13->tensorflow-macos==2.13.0->tensorflow) (2.1.1)\n",
      "Requirement already satisfied: pyasn1<0.5.0,>=0.4.6 in /Users/chaitanyatandon/anaconda3/lib/python3.11/site-packages (from pyasn1-modules>=0.2.1->google-auth<3,>=1.6.3->tensorboard<2.14,>=2.13->tensorflow-macos==2.13.0->tensorflow) (0.4.8)\n",
      "Requirement already satisfied: oauthlib>=3.0.0 in /Users/chaitanyatandon/anaconda3/lib/python3.11/site-packages (from requests-oauthlib>=0.7.0->google-auth-oauthlib<1.1,>=0.5->tensorboard<2.14,>=2.13->tensorflow-macos==2.13.0->tensorflow) (3.2.2)\n"
     ]
    }
   ],
   "source": [
    "!pip install opencv-python matplotlib imageio gdown tensorflow"
   ]
  },
  {
   "cell_type": "code",
   "execution_count": 30,
   "metadata": {},
   "outputs": [
    {
     "ename": "ModuleNotFoundError",
     "evalue": "No module named 'matplotlib'",
     "output_type": "error",
     "traceback": [
      "\u001b[0;31m---------------------------------------------------------------------------\u001b[0m",
      "\u001b[0;31mModuleNotFoundError\u001b[0m                       Traceback (most recent call last)",
      "Cell \u001b[0;32mIn[30], line 6\u001b[0m\n\u001b[1;32m      4\u001b[0m \u001b[39mimport\u001b[39;00m \u001b[39mnumpy\u001b[39;00m \u001b[39mas\u001b[39;00m \u001b[39mnp\u001b[39;00m\n\u001b[1;32m      5\u001b[0m \u001b[39mfrom\u001b[39;00m \u001b[39mtyping\u001b[39;00m \u001b[39mimport\u001b[39;00m List\n\u001b[0;32m----> 6\u001b[0m \u001b[39mfrom\u001b[39;00m \u001b[39mmatplotlib\u001b[39;00m \u001b[39mimport\u001b[39;00m pyplot \u001b[39mas\u001b[39;00m plt\n\u001b[1;32m      7\u001b[0m \u001b[39mimport\u001b[39;00m \u001b[39mimageio\u001b[39;00m\n",
      "\u001b[0;31mModuleNotFoundError\u001b[0m: No module named 'matplotlib'"
     ]
    }
   ],
   "source": [
    "import os\n",
    "\n",
    "import tensorflow as tf\n",
    "import numpy as np\n",
    "from typing import List\n",
    "from matplotlib import pyplot as plt\n",
    "import imageio"
   ]
  },
  {
   "cell_type": "code",
   "execution_count": 31,
   "metadata": {},
   "outputs": [
    {
     "name": "stdout",
     "output_type": "stream",
     "text": [
      "Defaulting to user installation because normal site-packages is not writeable\n",
      "Collecting opencv-python\n",
      "  Using cached opencv_python-4.8.0.76-cp37-abi3-macosx_11_0_arm64.whl (33.1 MB)\n",
      "Collecting matplotlib\n",
      "  Downloading matplotlib-3.7.2-cp39-cp39-macosx_11_0_arm64.whl (7.3 MB)\n",
      "\u001b[K     |████████████████████████████████| 7.3 MB 4.1 MB/s eta 0:00:01\n",
      "\u001b[?25hCollecting imageio\n",
      "  Downloading imageio-2.31.2-py3-none-any.whl (313 kB)\n",
      "\u001b[K     |████████████████████████████████| 313 kB 2.0 MB/s eta 0:00:01\n",
      "\u001b[?25hCollecting gdown\n",
      "  Using cached gdown-4.7.1-py3-none-any.whl (15 kB)\n",
      "Requirement already satisfied: tensorflow in /Users/chaitanyatandon/Library/Python/3.9/lib/python/site-packages (2.13.0)\n",
      "Requirement already satisfied: numpy>=1.17.0 in /Users/chaitanyatandon/Library/Python/3.9/lib/python/site-packages (from opencv-python) (1.24.3)\n",
      "Collecting kiwisolver>=1.0.1\n",
      "  Downloading kiwisolver-1.4.5-cp39-cp39-macosx_11_0_arm64.whl (66 kB)\n",
      "\u001b[K     |████████████████████████████████| 66 kB 3.8 MB/s eta 0:00:01\n",
      "\u001b[?25hCollecting pyparsing<3.1,>=2.3.1\n",
      "  Downloading pyparsing-3.0.9-py3-none-any.whl (98 kB)\n",
      "\u001b[K     |████████████████████████████████| 98 kB 4.1 MB/s eta 0:00:01\n",
      "\u001b[?25hRequirement already satisfied: packaging>=20.0 in /Users/chaitanyatandon/Library/Python/3.9/lib/python/site-packages (from matplotlib) (23.1)\n",
      "Collecting fonttools>=4.22.0\n",
      "  Downloading fonttools-4.42.1-cp39-cp39-macosx_10_9_universal2.whl (2.7 MB)\n",
      "\u001b[K     |████████████████████████████████| 2.7 MB 3.7 MB/s eta 0:00:01\n",
      "\u001b[?25hCollecting cycler>=0.10\n",
      "  Downloading cycler-0.11.0-py3-none-any.whl (6.4 kB)\n",
      "Collecting contourpy>=1.0.1\n",
      "  Downloading contourpy-1.1.0-cp39-cp39-macosx_11_0_arm64.whl (229 kB)\n",
      "\u001b[K     |████████████████████████████████| 229 kB 3.7 MB/s eta 0:00:01\n",
      "\u001b[?25hCollecting pillow>=6.2.0\n",
      "  Downloading Pillow-10.0.0-cp39-cp39-macosx_11_0_arm64.whl (3.1 MB)\n",
      "\u001b[K     |████████████████████████████████| 3.1 MB 2.5 MB/s eta 0:00:01\n",
      "\u001b[?25hCollecting importlib-resources>=3.2.0\n",
      "  Downloading importlib_resources-6.0.1-py3-none-any.whl (34 kB)\n",
      "Requirement already satisfied: python-dateutil>=2.7 in /Users/chaitanyatandon/Library/Python/3.9/lib/python/site-packages (from matplotlib) (2.8.2)\n",
      "Collecting filelock\n",
      "  Downloading filelock-3.12.3-py3-none-any.whl (11 kB)\n",
      "Requirement already satisfied: requests[socks] in /Users/chaitanyatandon/Library/Python/3.9/lib/python/site-packages (from gdown) (2.31.0)\n",
      "Requirement already satisfied: six in /Library/Developer/CommandLineTools/Library/Frameworks/Python3.framework/Versions/3.9/lib/python3.9/site-packages (from gdown) (1.15.0)\n",
      "Collecting beautifulsoup4\n",
      "  Downloading beautifulsoup4-4.12.2-py3-none-any.whl (142 kB)\n",
      "\u001b[K     |████████████████████████████████| 142 kB 3.8 MB/s eta 0:00:01\n",
      "\u001b[?25hRequirement already satisfied: tqdm in /Users/chaitanyatandon/Library/Python/3.9/lib/python/site-packages (from gdown) (4.66.1)\n",
      "Requirement already satisfied: tensorflow-macos==2.13.0 in /Users/chaitanyatandon/Library/Python/3.9/lib/python/site-packages (from tensorflow) (2.13.0)\n",
      "Requirement already satisfied: flatbuffers>=23.1.21 in /Users/chaitanyatandon/Library/Python/3.9/lib/python/site-packages (from tensorflow-macos==2.13.0->tensorflow) (23.5.26)\n",
      "Requirement already satisfied: astunparse>=1.6.0 in /Users/chaitanyatandon/Library/Python/3.9/lib/python/site-packages (from tensorflow-macos==2.13.0->tensorflow) (1.6.3)\n",
      "Requirement already satisfied: tensorboard<2.14,>=2.13 in /Users/chaitanyatandon/Library/Python/3.9/lib/python/site-packages (from tensorflow-macos==2.13.0->tensorflow) (2.13.0)\n",
      "Requirement already satisfied: gast<=0.4.0,>=0.2.1 in /Users/chaitanyatandon/Library/Python/3.9/lib/python/site-packages (from tensorflow-macos==2.13.0->tensorflow) (0.4.0)\n",
      "Requirement already satisfied: h5py>=2.9.0 in /Users/chaitanyatandon/Library/Python/3.9/lib/python/site-packages (from tensorflow-macos==2.13.0->tensorflow) (3.9.0)\n",
      "Requirement already satisfied: protobuf!=4.21.0,!=4.21.1,!=4.21.2,!=4.21.3,!=4.21.4,!=4.21.5,<5.0.0dev,>=3.20.3 in /Users/chaitanyatandon/Library/Python/3.9/lib/python/site-packages (from tensorflow-macos==2.13.0->tensorflow) (4.24.2)\n",
      "Requirement already satisfied: opt-einsum>=2.3.2 in /Users/chaitanyatandon/Library/Python/3.9/lib/python/site-packages (from tensorflow-macos==2.13.0->tensorflow) (3.3.0)\n",
      "Requirement already satisfied: typing-extensions<4.6.0,>=3.6.6 in /Users/chaitanyatandon/Library/Python/3.9/lib/python/site-packages (from tensorflow-macos==2.13.0->tensorflow) (4.5.0)\n",
      "Requirement already satisfied: keras<2.14,>=2.13.1 in /Users/chaitanyatandon/Library/Python/3.9/lib/python/site-packages (from tensorflow-macos==2.13.0->tensorflow) (2.13.1)\n",
      "Requirement already satisfied: libclang>=13.0.0 in /Users/chaitanyatandon/Library/Python/3.9/lib/python/site-packages (from tensorflow-macos==2.13.0->tensorflow) (16.0.6)\n",
      "Requirement already satisfied: termcolor>=1.1.0 in /Users/chaitanyatandon/Library/Python/3.9/lib/python/site-packages (from tensorflow-macos==2.13.0->tensorflow) (2.3.0)\n",
      "Requirement already satisfied: grpcio<2.0,>=1.24.3 in /Users/chaitanyatandon/Library/Python/3.9/lib/python/site-packages (from tensorflow-macos==2.13.0->tensorflow) (1.57.0)\n",
      "Requirement already satisfied: google-pasta>=0.1.1 in /Users/chaitanyatandon/Library/Python/3.9/lib/python/site-packages (from tensorflow-macos==2.13.0->tensorflow) (0.2.0)\n",
      "Requirement already satisfied: setuptools in /Library/Developer/CommandLineTools/Library/Frameworks/Python3.framework/Versions/3.9/lib/python3.9/site-packages (from tensorflow-macos==2.13.0->tensorflow) (58.0.4)\n",
      "Requirement already satisfied: tensorflow-estimator<2.14,>=2.13.0 in /Users/chaitanyatandon/Library/Python/3.9/lib/python/site-packages (from tensorflow-macos==2.13.0->tensorflow) (2.13.0)\n",
      "Requirement already satisfied: absl-py>=1.0.0 in /Users/chaitanyatandon/Library/Python/3.9/lib/python/site-packages (from tensorflow-macos==2.13.0->tensorflow) (1.4.0)\n",
      "Requirement already satisfied: wrapt>=1.11.0 in /Users/chaitanyatandon/Library/Python/3.9/lib/python/site-packages (from tensorflow-macos==2.13.0->tensorflow) (1.15.0)\n",
      "Requirement already satisfied: wheel<1.0,>=0.23.0 in /Library/Developer/CommandLineTools/Library/Frameworks/Python3.framework/Versions/3.9/lib/python3.9/site-packages (from astunparse>=1.6.0->tensorflow-macos==2.13.0->tensorflow) (0.37.0)\n",
      "Requirement already satisfied: zipp>=3.1.0 in /Users/chaitanyatandon/Library/Python/3.9/lib/python/site-packages (from importlib-resources>=3.2.0->matplotlib) (3.16.2)\n",
      "Requirement already satisfied: google-auth-oauthlib<1.1,>=0.5 in /Users/chaitanyatandon/Library/Python/3.9/lib/python/site-packages (from tensorboard<2.14,>=2.13->tensorflow-macos==2.13.0->tensorflow) (1.0.0)\n",
      "Requirement already satisfied: markdown>=2.6.8 in /Users/chaitanyatandon/Library/Python/3.9/lib/python/site-packages (from tensorboard<2.14,>=2.13->tensorflow-macos==2.13.0->tensorflow) (3.4.4)\n",
      "Requirement already satisfied: tensorboard-data-server<0.8.0,>=0.7.0 in /Users/chaitanyatandon/Library/Python/3.9/lib/python/site-packages (from tensorboard<2.14,>=2.13->tensorflow-macos==2.13.0->tensorflow) (0.7.1)\n",
      "Requirement already satisfied: google-auth<3,>=1.6.3 in /Users/chaitanyatandon/Library/Python/3.9/lib/python/site-packages (from tensorboard<2.14,>=2.13->tensorflow-macos==2.13.0->tensorflow) (2.22.0)\n",
      "Requirement already satisfied: werkzeug>=1.0.1 in /Users/chaitanyatandon/Library/Python/3.9/lib/python/site-packages (from tensorboard<2.14,>=2.13->tensorflow-macos==2.13.0->tensorflow) (2.3.7)\n",
      "Requirement already satisfied: rsa<5,>=3.1.4 in /Users/chaitanyatandon/Library/Python/3.9/lib/python/site-packages (from google-auth<3,>=1.6.3->tensorboard<2.14,>=2.13->tensorflow-macos==2.13.0->tensorflow) (4.9)\n",
      "Requirement already satisfied: cachetools<6.0,>=2.0.0 in /Users/chaitanyatandon/Library/Python/3.9/lib/python/site-packages (from google-auth<3,>=1.6.3->tensorboard<2.14,>=2.13->tensorflow-macos==2.13.0->tensorflow) (5.3.1)\n",
      "Requirement already satisfied: urllib3<2.0 in /Users/chaitanyatandon/Library/Python/3.9/lib/python/site-packages (from google-auth<3,>=1.6.3->tensorboard<2.14,>=2.13->tensorflow-macos==2.13.0->tensorflow) (1.26.16)\n",
      "Requirement already satisfied: pyasn1-modules>=0.2.1 in /Users/chaitanyatandon/Library/Python/3.9/lib/python/site-packages (from google-auth<3,>=1.6.3->tensorboard<2.14,>=2.13->tensorflow-macos==2.13.0->tensorflow) (0.3.0)\n",
      "Requirement already satisfied: requests-oauthlib>=0.7.0 in /Users/chaitanyatandon/Library/Python/3.9/lib/python/site-packages (from google-auth-oauthlib<1.1,>=0.5->tensorboard<2.14,>=2.13->tensorflow-macos==2.13.0->tensorflow) (1.3.1)\n",
      "Requirement already satisfied: importlib-metadata>=4.4 in /Users/chaitanyatandon/Library/Python/3.9/lib/python/site-packages (from markdown>=2.6.8->tensorboard<2.14,>=2.13->tensorflow-macos==2.13.0->tensorflow) (6.8.0)\n",
      "Requirement already satisfied: pyasn1<0.6.0,>=0.4.6 in /Users/chaitanyatandon/Library/Python/3.9/lib/python/site-packages (from pyasn1-modules>=0.2.1->google-auth<3,>=1.6.3->tensorboard<2.14,>=2.13->tensorflow-macos==2.13.0->tensorflow) (0.5.0)\n",
      "Requirement already satisfied: idna<4,>=2.5 in /Users/chaitanyatandon/Library/Python/3.9/lib/python/site-packages (from requests[socks]->gdown) (3.4)\n",
      "Requirement already satisfied: certifi>=2017.4.17 in /Users/chaitanyatandon/Library/Python/3.9/lib/python/site-packages (from requests[socks]->gdown) (2023.7.22)\n",
      "Requirement already satisfied: charset-normalizer<4,>=2 in /Users/chaitanyatandon/Library/Python/3.9/lib/python/site-packages (from requests[socks]->gdown) (3.2.0)\n",
      "Requirement already satisfied: oauthlib>=3.0.0 in /Users/chaitanyatandon/Library/Python/3.9/lib/python/site-packages (from requests-oauthlib>=0.7.0->google-auth-oauthlib<1.1,>=0.5->tensorboard<2.14,>=2.13->tensorflow-macos==2.13.0->tensorflow) (3.2.2)\n",
      "Requirement already satisfied: MarkupSafe>=2.1.1 in /Users/chaitanyatandon/Library/Python/3.9/lib/python/site-packages (from werkzeug>=1.0.1->tensorboard<2.14,>=2.13->tensorflow-macos==2.13.0->tensorflow) (2.1.3)\n",
      "Collecting soupsieve>1.2\n",
      "  Downloading soupsieve-2.4.1-py3-none-any.whl (36 kB)\n",
      "Collecting filelock\n",
      "  Downloading filelock-3.12.2-py3-none-any.whl (10 kB)\n",
      "Collecting PySocks!=1.5.7,>=1.5.6\n",
      "  Downloading PySocks-1.7.1-py3-none-any.whl (16 kB)\n",
      "Installing collected packages: soupsieve, PySocks, pyparsing, pillow, kiwisolver, importlib-resources, fonttools, filelock, cycler, contourpy, beautifulsoup4, opencv-python, matplotlib, imageio, gdown\n",
      "Successfully installed PySocks-1.7.1 beautifulsoup4-4.12.2 contourpy-1.1.0 cycler-0.11.0 filelock-3.12.2 fonttools-4.42.1 gdown-4.7.1 imageio-2.31.2 importlib-resources-6.0.1 kiwisolver-1.4.5 matplotlib-3.7.2 opencv-python-4.8.0.76 pillow-10.0.0 pyparsing-3.0.9 soupsieve-2.4.1\n",
      "\u001b[33mWARNING: You are using pip version 21.2.4; however, version 23.2.1 is available.\n",
      "You should consider upgrading via the '/Library/Developer/CommandLineTools/usr/bin/python3 -m pip install --upgrade pip' command.\u001b[0m\n"
     ]
    }
   ],
   "source": [
    "!pip3 install opencv-python matplotlib imageio gdown tensorflow"
   ]
  },
  {
   "cell_type": "code",
   "execution_count": 32,
   "metadata": {},
   "outputs": [],
   "source": [
    "import os\n",
    "import cv2\n",
    "import tensorflow as tf\n",
    "import numpy as np\n",
    "from typing import List\n",
    "from matplotlib import pyplot as plt\n",
    "import imageio"
   ]
  },
  {
   "cell_type": "code",
   "execution_count": 33,
   "metadata": {},
   "outputs": [],
   "source": [
    "import gdown"
   ]
  },
  {
   "cell_type": "code",
   "execution_count": 35,
   "metadata": {},
   "outputs": [
    {
     "data": {
      "text/plain": [
       "<tensorflow.python.checkpoint.checkpoint.CheckpointLoadStatus at 0x151935160>"
      ]
     },
     "execution_count": 35,
     "metadata": {},
     "output_type": "execute_result"
    }
   ],
   "source": [
    "model.load_weights('models/checkpoint')"
   ]
  },
  {
   "cell_type": "code",
   "execution_count": 36,
   "metadata": {},
   "outputs": [
    {
     "name": "stdout",
     "output_type": "stream",
     "text": [
      "WARNING:tensorflow:Compiled the loaded model, but the compiled metrics have yet to be built. `model.compile_metrics` will be empty until you train or evaluate the model.\n"
     ]
    },
    {
     "name": "stderr",
     "output_type": "stream",
     "text": [
      "/Users/chaitanyatandon/Library/Python/3.9/lib/python/site-packages/keras/src/engine/training.py:3000: UserWarning: You are saving your model as an HDF5 file via `model.save()`. This file format is considered legacy. We recommend using instead the native Keras format, e.g. `model.save('my_model.keras')`.\n",
      "  saving_api.save_model(\n"
     ]
    }
   ],
   "source": [
    "model.save(\"lipbud.h5\")"
   ]
  },
  {
   "cell_type": "code",
   "execution_count": 40,
   "metadata": {},
   "outputs": [
    {
     "name": "stdout",
     "output_type": "stream",
     "text": [
      "Model: \"sequential_1\"\n",
      "_________________________________________________________________\n",
      " Layer (type)                Output Shape              Param #   \n",
      "=================================================================\n",
      " conv3d_3 (Conv3D)           (None, 75, 46, 140, 128   3584      \n",
      "                             )                                   \n",
      "                                                                 \n",
      " activation_3 (Activation)   (None, 75, 46, 140, 128   0         \n",
      "                             )                                   \n",
      "                                                                 \n",
      " max_pooling3d_3 (MaxPoolin  (None, 75, 23, 70, 128)   0         \n",
      " g3D)                                                            \n",
      "                                                                 \n",
      " conv3d_4 (Conv3D)           (None, 75, 23, 70, 256)   884992    \n",
      "                                                                 \n",
      " activation_4 (Activation)   (None, 75, 23, 70, 256)   0         \n",
      "                                                                 \n",
      " max_pooling3d_4 (MaxPoolin  (None, 75, 11, 35, 256)   0         \n",
      " g3D)                                                            \n",
      "                                                                 \n",
      " conv3d_5 (Conv3D)           (None, 75, 11, 35, 75)    518475    \n",
      "                                                                 \n",
      " activation_5 (Activation)   (None, 75, 11, 35, 75)    0         \n",
      "                                                                 \n",
      " max_pooling3d_5 (MaxPoolin  (None, 75, 5, 17, 75)     0         \n",
      " g3D)                                                            \n",
      "                                                                 \n",
      " time_distributed_1 (TimeDi  (None, 75, 6375)          0         \n",
      " stributed)                                                      \n",
      "                                                                 \n",
      " bidirectional_2 (Bidirecti  (None, 75, 256)           6660096   \n",
      " onal)                                                           \n",
      "                                                                 \n",
      " dropout_2 (Dropout)         (None, 75, 256)           0         \n",
      "                                                                 \n",
      " bidirectional_3 (Bidirecti  (None, 75, 256)           394240    \n",
      " onal)                                                           \n",
      "                                                                 \n",
      " dropout_3 (Dropout)         (None, 75, 256)           0         \n",
      "                                                                 \n",
      " dense (Dense)               (None, 75, 41)            10537     \n",
      "                                                                 \n",
      "=================================================================\n",
      "Total params: 8471924 (32.32 MB)\n",
      "Trainable params: 8471924 (32.32 MB)\n",
      "Non-trainable params: 0 (0.00 Byte)\n",
      "_________________________________________________________________\n"
     ]
    }
   ],
   "source": [
    "model.summary()"
   ]
  },
  {
   "cell_type": "code",
   "execution_count": 41,
   "metadata": {},
   "outputs": [
    {
     "name": "stdout",
     "output_type": "stream",
     "text": [
      "a lipbud.h5\n"
     ]
    }
   ],
   "source": [
    "!tar -zcvf lipbud.tgz lipbud.h5"
   ]
  },
  {
   "cell_type": "code",
   "execution_count": 42,
   "metadata": {},
   "outputs": [],
   "source": [
    "model_details=client.repository.store_model(model=\"lipbud.tgz\",meta_props={\n",
    "    client.repository.ModelMetaNames.NAME:\"lipbud.h5\",\n",
    "    client.repository.ModelMetaNames.TYPE:\"tensorflow_2.9\",\n",
    "    client.repository.ModelMetaNames.SOFTWARE_SPEC_UID:software_space_uid\n",
    "})"
   ]
  },
  {
   "cell_type": "code",
   "execution_count": 43,
   "metadata": {},
   "outputs": [
    {
     "data": {
      "text/plain": [
       "'eed6f60c-6294-4b7d-9b25-71d40fa5e2e6'"
      ]
     },
     "execution_count": 43,
     "metadata": {},
     "output_type": "execute_result"
    }
   ],
   "source": [
    "model_id=client.repository.get_model_id(model_details)\n",
    "model_id"
   ]
  },
  {
   "cell_type": "code",
   "execution_count": 44,
   "metadata": {},
   "outputs": [
    {
     "name": "stdout",
     "output_type": "stream",
     "text": [
      "Successfully saved model content to file: 'lipbud2.tgz'\n"
     ]
    },
    {
     "data": {
      "text/plain": [
       "'/Users/chaitanyatandon/Desktop/LIPBUDDIES/lipbud2.tgz'"
      ]
     },
     "execution_count": 44,
     "metadata": {},
     "output_type": "execute_result"
    }
   ],
   "source": [
    "client.repository.download(model_id,'lipbud2.tgz')"
   ]
  },
  {
   "cell_type": "code",
   "execution_count": 45,
   "metadata": {},
   "outputs": [
    {
     "ename": "ModuleNotFoundError",
     "evalue": "No module named 'flask'",
     "output_type": "error",
     "traceback": [
      "\u001b[0;31m---------------------------------------------------------------------------\u001b[0m",
      "\u001b[0;31mModuleNotFoundError\u001b[0m                       Traceback (most recent call last)",
      "Cell \u001b[0;32mIn[45], line 5\u001b[0m\n\u001b[1;32m      3\u001b[0m \u001b[39mfrom\u001b[39;00m \u001b[39mtensorflow\u001b[39;00m\u001b[39m.\u001b[39;00m\u001b[39mkeras\u001b[39;00m\u001b[39m.\u001b[39;00m\u001b[39mmodels\u001b[39;00m \u001b[39mimport\u001b[39;00m load_model\n\u001b[1;32m      4\u001b[0m \u001b[39mfrom\u001b[39;00m \u001b[39mtensorflow\u001b[39;00m\u001b[39m.\u001b[39;00m\u001b[39mkeras\u001b[39;00m\u001b[39m.\u001b[39;00m\u001b[39mpreprocessing\u001b[39;00m \u001b[39mimport\u001b[39;00m image\n\u001b[0;32m----> 5\u001b[0m \u001b[39mfrom\u001b[39;00m \u001b[39mflask\u001b[39;00m \u001b[39mimport\u001b[39;00m Flask , request, render_template\n",
      "\u001b[0;31mModuleNotFoundError\u001b[0m: No module named 'flask'"
     ]
    }
   ],
   "source": [
    "import numpy as np\n",
    "import os\n",
    "from tensorflow.keras.models import load_model\n",
    "from tensorflow.keras.preprocessing import image\n",
    "from flask import Flask , request, render_template"
   ]
  },
  {
   "cell_type": "code",
   "execution_count": 46,
   "metadata": {},
   "outputs": [
    {
     "name": "stdout",
     "output_type": "stream",
     "text": [
      "Defaulting to user installation because normal site-packages is not writeable\n",
      "Collecting flask\n",
      "  Downloading flask-2.3.3-py3-none-any.whl (96 kB)\n",
      "\u001b[K     |████████████████████████████████| 96 kB 508 kB/s eta 0:00:01\n",
      "\u001b[?25hRequirement already satisfied: importlib-metadata>=3.6.0 in /Users/chaitanyatandon/Library/Python/3.9/lib/python/site-packages (from flask) (6.8.0)\n",
      "Collecting Jinja2>=3.1.2\n",
      "  Downloading Jinja2-3.1.2-py3-none-any.whl (133 kB)\n",
      "\u001b[K     |████████████████████████████████| 133 kB 1.9 MB/s eta 0:00:01\n",
      "\u001b[?25hCollecting itsdangerous>=2.1.2\n",
      "  Downloading itsdangerous-2.1.2-py3-none-any.whl (15 kB)\n",
      "Requirement already satisfied: Werkzeug>=2.3.7 in /Users/chaitanyatandon/Library/Python/3.9/lib/python/site-packages (from flask) (2.3.7)\n",
      "Collecting click>=8.1.3\n",
      "  Downloading click-8.1.7-py3-none-any.whl (97 kB)\n",
      "\u001b[K     |████████████████████████████████| 97 kB 3.6 MB/s eta 0:00:01\n",
      "\u001b[?25hCollecting blinker>=1.6.2\n",
      "  Using cached blinker-1.6.2-py3-none-any.whl (13 kB)\n",
      "Requirement already satisfied: zipp>=0.5 in /Users/chaitanyatandon/Library/Python/3.9/lib/python/site-packages (from importlib-metadata>=3.6.0->flask) (3.16.2)\n",
      "Requirement already satisfied: MarkupSafe>=2.0 in /Users/chaitanyatandon/Library/Python/3.9/lib/python/site-packages (from Jinja2>=3.1.2->flask) (2.1.3)\n",
      "Installing collected packages: Jinja2, itsdangerous, click, blinker, flask\n",
      "Successfully installed Jinja2-3.1.2 blinker-1.6.2 click-8.1.7 flask-2.3.3 itsdangerous-2.1.2\n",
      "\u001b[33mWARNING: You are using pip version 21.2.4; however, version 23.2.1 is available.\n",
      "You should consider upgrading via the '/Library/Developer/CommandLineTools/usr/bin/python3 -m pip install --upgrade pip' command.\u001b[0m\n"
     ]
    }
   ],
   "source": [
    "!pip3 install flask"
   ]
  },
  {
   "cell_type": "code",
   "execution_count": 47,
   "metadata": {},
   "outputs": [],
   "source": [
    "def load_video(path:str) -> List[float]: \n",
    "\n",
    "    cap = cv2.VideoCapture(path)\n",
    "    frames = []\n",
    "    for _ in range(int(cap.get(cv2.CAP_PROP_FRAME_COUNT))): \n",
    "        ret, frame = cap.read()\n",
    "        frame = tf.image.rgb_to_grayscale(frame)\n",
    "        frames.append(frame[190:236,80:220,:])\n",
    "    cap.release()\n",
    "    \n",
    "    mean = tf.math.reduce_mean(frames)\n",
    "    std = tf.math.reduce_std(tf.cast(frames, tf.float32))\n",
    "    return tf.cast((frames - mean), tf.float32) / std"
   ]
  },
  {
   "cell_type": "code",
   "execution_count": 48,
   "metadata": {},
   "outputs": [],
   "source": [
    "vocab = [x for x in \"abcdefghijklmnopqrstuvwxyz'?!123456789 \"]"
   ]
  },
  {
   "cell_type": "code",
   "execution_count": 49,
   "metadata": {},
   "outputs": [
    {
     "name": "stdout",
     "output_type": "stream",
     "text": [
      "The vocabulary is: ['', 'a', 'b', 'c', 'd', 'e', 'f', 'g', 'h', 'i', 'j', 'k', 'l', 'm', 'n', 'o', 'p', 'q', 'r', 's', 't', 'u', 'v', 'w', 'x', 'y', 'z', \"'\", '?', '!', '1', '2', '3', '4', '5', '6', '7', '8', '9', ' '] (size =40)\n"
     ]
    }
   ],
   "source": [
    "char_to_num = tf.keras.layers.StringLookup(vocabulary=vocab, oov_token=\"\")\n",
    "num_to_char = tf.keras.layers.StringLookup(\n",
    "    vocabulary=char_to_num.get_vocabulary(), oov_token=\"\", invert=True\n",
    ")\n",
    "\n",
    "print(\n",
    "    f\"The vocabulary is: {char_to_num.get_vocabulary()} \"\n",
    "    f\"(size ={char_to_num.vocabulary_size()})\"\n",
    ")"
   ]
  },
  {
   "cell_type": "code",
   "execution_count": 50,
   "metadata": {},
   "outputs": [
    {
     "data": {
      "text/plain": [
       "['',\n",
       " 'a',\n",
       " 'b',\n",
       " 'c',\n",
       " 'd',\n",
       " 'e',\n",
       " 'f',\n",
       " 'g',\n",
       " 'h',\n",
       " 'i',\n",
       " 'j',\n",
       " 'k',\n",
       " 'l',\n",
       " 'm',\n",
       " 'n',\n",
       " 'o',\n",
       " 'p',\n",
       " 'q',\n",
       " 'r',\n",
       " 's',\n",
       " 't',\n",
       " 'u',\n",
       " 'v',\n",
       " 'w',\n",
       " 'x',\n",
       " 'y',\n",
       " 'z',\n",
       " \"'\",\n",
       " '?',\n",
       " '!',\n",
       " '1',\n",
       " '2',\n",
       " '3',\n",
       " '4',\n",
       " '5',\n",
       " '6',\n",
       " '7',\n",
       " '8',\n",
       " '9',\n",
       " ' ']"
      ]
     },
     "execution_count": 50,
     "metadata": {},
     "output_type": "execute_result"
    }
   ],
   "source": [
    "char_to_num.get_vocabulary()"
   ]
  },
  {
   "cell_type": "code",
   "execution_count": 51,
   "metadata": {},
   "outputs": [],
   "source": [
    "def load_alignments(path:str) -> List[str]: \n",
    "    with open(path, 'r') as f: \n",
    "        lines = f.readlines() \n",
    "    tokens = []\n",
    "    for line in lines:\n",
    "        line = line.split()\n",
    "        if line[2] != 'sil': \n",
    "            tokens = [*tokens,' ',line[2]]\n",
    "    return char_to_num(tf.reshape(tf.strings.unicode_split(tokens, input_encoding='UTF-8'), (-1)))[1:]"
   ]
  },
  {
   "cell_type": "code",
   "execution_count": 52,
   "metadata": {},
   "outputs": [],
   "source": [
    "def load_data(path: str): \n",
    "    path = bytes.decode(path.numpy())\n",
    "    file_name = path.split('/')[-1].split('.')[0]\n",
    "    # File name splitting for windows\n",
    "    #file_name = path.split('\\\\')[-1].split('.')[0]\n",
    "    video_path = os.path.join('data','s1',f'{file_name}.mpg')\n",
    "    alignment_path = os.path.join('data','alignments','s1',f'{file_name}.align')\n",
    "    frames = load_video(video_path) \n",
    "    alignments = load_alignments(alignment_path)\n",
    "    \n",
    "    return frames, alignments"
   ]
  },
  {
   "cell_type": "code",
   "execution_count": 56,
   "metadata": {},
   "outputs": [],
   "source": [
    "test_path = '\\\\Users\\\\Coding\\\\Desktop\\\\Projects\\\\Lipsense\\\\LipSyncer\\\\data\\\\s1\\\\bbal6n.mpg'"
   ]
  },
  {
   "cell_type": "code",
   "execution_count": 58,
   "metadata": {},
   "outputs": [
    {
     "data": {
      "text/plain": [
       "'bbal6n'"
      ]
     },
     "execution_count": 58,
     "metadata": {},
     "output_type": "execute_result"
    }
   ],
   "source": [
    "tf.convert_to_tensor(test_path).numpy().decode('utf-8').split('/')[-1].split('.')[0]"
   ]
  },
  {
   "cell_type": "code",
   "execution_count": 59,
   "metadata": {},
   "outputs": [],
   "source": [
    "frames, alignments = load_data(tf.convert_to_tensor(test_path))"
   ]
  },
  {
   "cell_type": "code",
   "execution_count": 60,
   "metadata": {},
   "outputs": [
    {
     "data": {
      "text/plain": [
       "<matplotlib.image.AxesImage at 0x16105d5b0>"
      ]
     },
     "execution_count": 60,
     "metadata": {},
     "output_type": "execute_result"
    },
    {
     "data": {
      "image/png": "[encoded data removed]",
      "text/plain": [
       "<Figure size 640x480 with 1 Axes>"
      ]
     },
     "metadata": {},
     "output_type": "display_data"
    }
   ],
   "source": [
    "plt.imshow(frames[40])"
   ]
  },
  {
   "cell_type": "code",
   "execution_count": 61,
   "metadata": {},
   "outputs": [
    {
     "data": {
      "text/plain": [
       "<tf.Tensor: shape=(21,), dtype=int64, numpy=\n",
       "array([ 2,  9, 14, 39,  2, 12, 21,  5, 39,  1, 20, 39, 12, 39, 19,  9, 24,\n",
       "       39, 14, 15, 23])>"
      ]
     },
     "execution_count": 61,
     "metadata": {},
     "output_type": "execute_result"
    }
   ],
   "source": [
    "alignments"
   ]
  },
  {
   "cell_type": "code",
   "execution_count": 62,
   "metadata": {},
   "outputs": [
    {
     "data": {
      "text/plain": [
       "<tf.Tensor: shape=(), dtype=string, numpy=b'bin blue at l six now'>"
      ]
     },
     "execution_count": 62,
     "metadata": {},
     "output_type": "execute_result"
    }
   ],
   "source": [
    "tf.strings.reduce_join([bytes.decode(x) for x in num_to_char(alignments.numpy()).numpy()])"
   ]
  },
  {
   "cell_type": "code",
   "execution_count": 63,
   "metadata": {},
   "outputs": [],
   "source": [
    "def mappable_function(path:str) ->List[str]:\n",
    "    result = tf.py_function(load_data, [path], (tf.float32, tf.int64))\n",
    "    return result"
   ]
  },
  {
   "cell_type": "code",
   "execution_count": 64,
   "metadata": {},
   "outputs": [],
   "source": [
    "from matplotlib import pyplot as plt"
   ]
  },
  {
   "cell_type": "code",
   "execution_count": 66,
   "metadata": {},
   "outputs": [],
   "source": [
    "sample = load_data(tf.convert_to_tensor('\\\\Users\\\\Coding\\\\Desktop\\\\Projects\\\\Lipsense\\\\LipSyncer\\\\data\\\\s1\\\\bras9a.mpg'))\n"
   ]
  },
  {
   "cell_type": "code",
   "execution_count": 67,
   "metadata": {},
   "outputs": [
    {
     "name": "stdout",
     "output_type": "stream",
     "text": [
      "~~~~~~~~~~~~~~~~~~~~~~~~~~~~~~~~~~~~~~~~~~~~~~~~~~~~~~~~~~~~~~~~~~~~~~~~~~~~~~~~~~~~~~~~~~~~~~~~~~~~ REAL TEXT\n"
     ]
    },
    {
     "data": {
      "text/plain": [
       "[<tf.Tensor: shape=(), dtype=string, numpy=b'bin red at s nine again'>]"
      ]
     },
     "execution_count": 67,
     "metadata": {},
     "output_type": "execute_result"
    }
   ],
   "source": [
    "print('~'*100, 'REAL TEXT')\n",
    "[tf.strings.reduce_join([num_to_char(word) for word in sentence]) for sentence in [sample[1]]]\n"
   ]
  },
  {
   "cell_type": "code",
   "execution_count": 68,
   "metadata": {},
   "outputs": [
    {
     "name": "stdout",
     "output_type": "stream",
     "text": [
      "1/1 [==============================] - 3s 3s/step\n"
     ]
    }
   ],
   "source": [
    "yhat = model.predict(tf.expand_dims(sample[0], axis=0))"
   ]
  },
  {
   "cell_type": "code",
   "execution_count": 69,
   "metadata": {},
   "outputs": [],
   "source": [
    "decoded = tf.keras.backend.ctc_decode(yhat, input_length=[75], greedy=True)[0][0].numpy()"
   ]
  },
  {
   "cell_type": "code",
   "execution_count": 70,
   "metadata": {},
   "outputs": [
    {
     "name": "stdout",
     "output_type": "stream",
     "text": [
      "~~~~~~~~~~~~~~~~~~~~~~~~~~~~~~~~~~~~~~~~~~~~~~~~~~~~~~~~~~~~~~~~~~~~~~~~~~~~~~~~~~~~~~~~~~~~~~~~~~~~ PREDICTIONS\n"
     ]
    },
    {
     "data": {
      "text/plain": [
       "[<tf.Tensor: shape=(), dtype=string, numpy=b'bin red at s nine again'>]"
      ]
     },
     "execution_count": 70,
     "metadata": {},
     "output_type": "execute_result"
    }
   ],
   "source": [
    "print('~'*100, 'PREDICTIONS')\n",
    "[tf.strings.reduce_join([num_to_char(word) for word in sentence]) for sentence in decoded]\n"
   ]
  },
  {
   "cell_type": "code",
   "execution_count": 71,
   "metadata": {},
   "outputs": [
    {
     "name": "stdout",
     "output_type": "stream",
     "text": [
      "WARNING:tensorflow:Compiled the loaded model, but the compiled metrics have yet to be built. `model.compile_metrics` will be empty until you train or evaluate the model.\n"
     ]
    },
    {
     "name": "stderr",
     "output_type": "stream",
     "text": [
      "/Users/chaitanyatandon/Library/Python/3.9/lib/python/site-packages/keras/src/engine/training.py:3000: UserWarning: You are saving your model as an HDF5 file via `model.save()`. This file format is considered legacy. We recommend using instead the native Keras format, e.g. `model.save('my_model.keras')`.\n",
      "  saving_api.save_model(\n"
     ]
    }
   ],
   "source": [
    "model.save(\"lipbud.h5\")"
   ]
  },
  {
   "cell_type": "code",
   "execution_count": null,
   "metadata": {},
   "outputs": [],
   "source": []
  }
 ],
 "metadata": {
  "kernelspec": {
   "display_name": ".venv",
   "language": "python",
   "name": "python3"
  },
  "language_info": {
   "codemirror_mode": {
    "name": "ipython",
    "version": 3
   },
   "file_extension": ".py",
   "mimetype": "text/x-python",
   "name": "python",
   "nbconvert_exporter": "python",
   "pygments_lexer": "ipython3",
   "version": "3.9.6"
  },
  "orig_nbformat": 4
 },
 "nbformat": 4,
 "nbformat_minor": 2
}
